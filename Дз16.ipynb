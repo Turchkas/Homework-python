{
 "cells": [
  {
   "cell_type": "code",
   "execution_count": 1,
   "metadata": {},
   "outputs": [],
   "source": [
    "from sklearn.datasets import load_iris\n",
    "import pandas as pd\n",
    "import numpy as np\n",
    "import matplotlib.pyplot as plt"
   ]
  },
  {
   "cell_type": "code",
   "execution_count": 2,
   "metadata": {},
   "outputs": [],
   "source": [
    "iris = load_iris()"
   ]
  },
  {
   "cell_type": "code",
   "execution_count": 3,
   "metadata": {},
   "outputs": [
    {
     "data": {
      "text/html": [
       "<div>\n",
       "<style scoped>\n",
       "    .dataframe tbody tr th:only-of-type {\n",
       "        vertical-align: middle;\n",
       "    }\n",
       "\n",
       "    .dataframe tbody tr th {\n",
       "        vertical-align: top;\n",
       "    }\n",
       "\n",
       "    .dataframe thead th {\n",
       "        text-align: right;\n",
       "    }\n",
       "</style>\n",
       "<table border=\"1\" class=\"dataframe\">\n",
       "  <thead>\n",
       "    <tr style=\"text-align: right;\">\n",
       "      <th></th>\n",
       "      <th>sepal length (cm)</th>\n",
       "      <th>sepal width (cm)</th>\n",
       "      <th>variety</th>\n",
       "    </tr>\n",
       "  </thead>\n",
       "  <tbody>\n",
       "    <tr>\n",
       "      <th>0</th>\n",
       "      <td>5.1</td>\n",
       "      <td>3.5</td>\n",
       "      <td>0</td>\n",
       "    </tr>\n",
       "    <tr>\n",
       "      <th>1</th>\n",
       "      <td>4.9</td>\n",
       "      <td>3.0</td>\n",
       "      <td>0</td>\n",
       "    </tr>\n",
       "    <tr>\n",
       "      <th>2</th>\n",
       "      <td>4.7</td>\n",
       "      <td>3.2</td>\n",
       "      <td>0</td>\n",
       "    </tr>\n",
       "    <tr>\n",
       "      <th>3</th>\n",
       "      <td>4.6</td>\n",
       "      <td>3.1</td>\n",
       "      <td>0</td>\n",
       "    </tr>\n",
       "    <tr>\n",
       "      <th>4</th>\n",
       "      <td>5.0</td>\n",
       "      <td>3.6</td>\n",
       "      <td>0</td>\n",
       "    </tr>\n",
       "    <tr>\n",
       "      <th>...</th>\n",
       "      <td>...</td>\n",
       "      <td>...</td>\n",
       "      <td>...</td>\n",
       "    </tr>\n",
       "    <tr>\n",
       "      <th>145</th>\n",
       "      <td>6.7</td>\n",
       "      <td>3.0</td>\n",
       "      <td>2</td>\n",
       "    </tr>\n",
       "    <tr>\n",
       "      <th>146</th>\n",
       "      <td>6.3</td>\n",
       "      <td>2.5</td>\n",
       "      <td>2</td>\n",
       "    </tr>\n",
       "    <tr>\n",
       "      <th>147</th>\n",
       "      <td>6.5</td>\n",
       "      <td>3.0</td>\n",
       "      <td>2</td>\n",
       "    </tr>\n",
       "    <tr>\n",
       "      <th>148</th>\n",
       "      <td>6.2</td>\n",
       "      <td>3.4</td>\n",
       "      <td>2</td>\n",
       "    </tr>\n",
       "    <tr>\n",
       "      <th>149</th>\n",
       "      <td>5.9</td>\n",
       "      <td>3.0</td>\n",
       "      <td>2</td>\n",
       "    </tr>\n",
       "  </tbody>\n",
       "</table>\n",
       "<p>150 rows × 3 columns</p>\n",
       "</div>"
      ],
      "text/plain": [
       "     sepal length (cm)  sepal width (cm)  variety\n",
       "0                  5.1               3.5        0\n",
       "1                  4.9               3.0        0\n",
       "2                  4.7               3.2        0\n",
       "3                  4.6               3.1        0\n",
       "4                  5.0               3.6        0\n",
       "..                 ...               ...      ...\n",
       "145                6.7               3.0        2\n",
       "146                6.3               2.5        2\n",
       "147                6.5               3.0        2\n",
       "148                6.2               3.4        2\n",
       "149                5.9               3.0        2\n",
       "\n",
       "[150 rows x 3 columns]"
      ]
     },
     "execution_count": 3,
     "metadata": {},
     "output_type": "execute_result"
    }
   ],
   "source": [
    "data = pd.DataFrame(iris.data, columns=iris.feature_names)\n",
    "data = data[['sepal length (cm)', 'sepal width (cm)']]\n",
    "data['variety'] = iris['target']\n",
    "data"
   ]
  },
  {
   "cell_type": "code",
   "execution_count": 5,
   "metadata": {},
   "outputs": [],
   "source": [
    "# разделяем выборку на тренировочную и тестовую\n",
    "from sklearn.model_selection import train_test_split\n",
    "X_train, X_test, y_train, y_test = train_test_split(data, iris.target, random_state=42)"
   ]
  },
  {
   "cell_type": "code",
   "execution_count": 6,
   "metadata": {},
   "outputs": [],
   "source": [
    "# импортируем LDA-функционал\n",
    "from sklearn.discriminant_analysis import LinearDiscriminantAnalysis"
   ]
  },
  {
   "cell_type": "code",
   "execution_count": 7,
   "metadata": {},
   "outputs": [],
   "source": [
    "lda = LinearDiscriminantAnalysis()"
   ]
  },
  {
   "cell_type": "code",
   "execution_count": 8,
   "metadata": {},
   "outputs": [
    {
     "data": {
      "text/html": [
       "<style>#sk-container-id-1 {color: black;background-color: white;}#sk-container-id-1 pre{padding: 0;}#sk-container-id-1 div.sk-toggleable {background-color: white;}#sk-container-id-1 label.sk-toggleable__label {cursor: pointer;display: block;width: 100%;margin-bottom: 0;padding: 0.3em;box-sizing: border-box;text-align: center;}#sk-container-id-1 label.sk-toggleable__label-arrow:before {content: \"▸\";float: left;margin-right: 0.25em;color: #696969;}#sk-container-id-1 label.sk-toggleable__label-arrow:hover:before {color: black;}#sk-container-id-1 div.sk-estimator:hover label.sk-toggleable__label-arrow:before {color: black;}#sk-container-id-1 div.sk-toggleable__content {max-height: 0;max-width: 0;overflow: hidden;text-align: left;background-color: #f0f8ff;}#sk-container-id-1 div.sk-toggleable__content pre {margin: 0.2em;color: black;border-radius: 0.25em;background-color: #f0f8ff;}#sk-container-id-1 input.sk-toggleable__control:checked~div.sk-toggleable__content {max-height: 200px;max-width: 100%;overflow: auto;}#sk-container-id-1 input.sk-toggleable__control:checked~label.sk-toggleable__label-arrow:before {content: \"▾\";}#sk-container-id-1 div.sk-estimator input.sk-toggleable__control:checked~label.sk-toggleable__label {background-color: #d4ebff;}#sk-container-id-1 div.sk-label input.sk-toggleable__control:checked~label.sk-toggleable__label {background-color: #d4ebff;}#sk-container-id-1 input.sk-hidden--visually {border: 0;clip: rect(1px 1px 1px 1px);clip: rect(1px, 1px, 1px, 1px);height: 1px;margin: -1px;overflow: hidden;padding: 0;position: absolute;width: 1px;}#sk-container-id-1 div.sk-estimator {font-family: monospace;background-color: #f0f8ff;border: 1px dotted black;border-radius: 0.25em;box-sizing: border-box;margin-bottom: 0.5em;}#sk-container-id-1 div.sk-estimator:hover {background-color: #d4ebff;}#sk-container-id-1 div.sk-parallel-item::after {content: \"\";width: 100%;border-bottom: 1px solid gray;flex-grow: 1;}#sk-container-id-1 div.sk-label:hover label.sk-toggleable__label {background-color: #d4ebff;}#sk-container-id-1 div.sk-serial::before {content: \"\";position: absolute;border-left: 1px solid gray;box-sizing: border-box;top: 0;bottom: 0;left: 50%;z-index: 0;}#sk-container-id-1 div.sk-serial {display: flex;flex-direction: column;align-items: center;background-color: white;padding-right: 0.2em;padding-left: 0.2em;position: relative;}#sk-container-id-1 div.sk-item {position: relative;z-index: 1;}#sk-container-id-1 div.sk-parallel {display: flex;align-items: stretch;justify-content: center;background-color: white;position: relative;}#sk-container-id-1 div.sk-item::before, #sk-container-id-1 div.sk-parallel-item::before {content: \"\";position: absolute;border-left: 1px solid gray;box-sizing: border-box;top: 0;bottom: 0;left: 50%;z-index: -1;}#sk-container-id-1 div.sk-parallel-item {display: flex;flex-direction: column;z-index: 1;position: relative;background-color: white;}#sk-container-id-1 div.sk-parallel-item:first-child::after {align-self: flex-end;width: 50%;}#sk-container-id-1 div.sk-parallel-item:last-child::after {align-self: flex-start;width: 50%;}#sk-container-id-1 div.sk-parallel-item:only-child::after {width: 0;}#sk-container-id-1 div.sk-dashed-wrapped {border: 1px dashed gray;margin: 0 0.4em 0.5em 0.4em;box-sizing: border-box;padding-bottom: 0.4em;background-color: white;}#sk-container-id-1 div.sk-label label {font-family: monospace;font-weight: bold;display: inline-block;line-height: 1.2em;}#sk-container-id-1 div.sk-label-container {text-align: center;}#sk-container-id-1 div.sk-container {/* jupyter's `normalize.less` sets `[hidden] { display: none; }` but bootstrap.min.css set `[hidden] { display: none !important; }` so we also need the `!important` here to be able to override the default hidden behavior on the sphinx rendered scikit-learn.org. See: https://github.com/scikit-learn/scikit-learn/issues/21755 */display: inline-block !important;position: relative;}#sk-container-id-1 div.sk-text-repr-fallback {display: none;}</style><div id=\"sk-container-id-1\" class=\"sk-top-container\"><div class=\"sk-text-repr-fallback\"><pre>LinearDiscriminantAnalysis()</pre><b>In a Jupyter environment, please rerun this cell to show the HTML representation or trust the notebook. <br />On GitHub, the HTML representation is unable to render, please try loading this page with nbviewer.org.</b></div><div class=\"sk-container\" hidden><div class=\"sk-item\"><div class=\"sk-estimator sk-toggleable\"><input class=\"sk-toggleable__control sk-hidden--visually\" id=\"sk-estimator-id-1\" type=\"checkbox\" checked><label for=\"sk-estimator-id-1\" class=\"sk-toggleable__label sk-toggleable__label-arrow\">LinearDiscriminantAnalysis</label><div class=\"sk-toggleable__content\"><pre>LinearDiscriminantAnalysis()</pre></div></div></div></div></div>"
      ],
      "text/plain": [
       "LinearDiscriminantAnalysis()"
      ]
     },
     "execution_count": 8,
     "metadata": {},
     "output_type": "execute_result"
    }
   ],
   "source": [
    "# обучаем данные\n",
    "lda.fit(X_train, y_train)"
   ]
  },
  {
   "cell_type": "code",
   "execution_count": 43,
   "metadata": {},
   "outputs": [
    {
     "data": {
      "text/plain": [
       "array([1, 0, 2, 1, 2, 0, 1, 2, 1, 1, 2, 0, 0, 0, 0, 1, 2, 1, 1, 2, 0, 2,\n",
       "       0, 2, 2, 2, 2, 2, 0, 0, 0, 0, 2, 0, 0, 2, 1, 0])"
      ]
     },
     "execution_count": 43,
     "metadata": {},
     "output_type": "execute_result"
    }
   ],
   "source": [
    "# делаем прогноз на тестовой выборке\n",
    "lda.predict(X_test)"
   ]
  },
  {
   "cell_type": "code",
   "execution_count": 44,
   "metadata": {},
   "outputs": [
    {
     "data": {
      "text/html": [
       "<div>\n",
       "<style scoped>\n",
       "    .dataframe tbody tr th:only-of-type {\n",
       "        vertical-align: middle;\n",
       "    }\n",
       "\n",
       "    .dataframe tbody tr th {\n",
       "        vertical-align: top;\n",
       "    }\n",
       "\n",
       "    .dataframe thead th {\n",
       "        text-align: right;\n",
       "    }\n",
       "</style>\n",
       "<table border=\"1\" class=\"dataframe\">\n",
       "  <thead>\n",
       "    <tr style=\"text-align: right;\">\n",
       "      <th></th>\n",
       "      <th>0</th>\n",
       "      <th>1</th>\n",
       "    </tr>\n",
       "  </thead>\n",
       "  <tbody>\n",
       "    <tr>\n",
       "      <th>0</th>\n",
       "      <td>1</td>\n",
       "      <td>1</td>\n",
       "    </tr>\n",
       "    <tr>\n",
       "      <th>1</th>\n",
       "      <td>0</td>\n",
       "      <td>0</td>\n",
       "    </tr>\n",
       "    <tr>\n",
       "      <th>2</th>\n",
       "      <td>2</td>\n",
       "      <td>2</td>\n",
       "    </tr>\n",
       "    <tr>\n",
       "      <th>3</th>\n",
       "      <td>1</td>\n",
       "      <td>1</td>\n",
       "    </tr>\n",
       "    <tr>\n",
       "      <th>4</th>\n",
       "      <td>1</td>\n",
       "      <td>2</td>\n",
       "    </tr>\n",
       "    <tr>\n",
       "      <th>5</th>\n",
       "      <td>0</td>\n",
       "      <td>0</td>\n",
       "    </tr>\n",
       "    <tr>\n",
       "      <th>6</th>\n",
       "      <td>1</td>\n",
       "      <td>1</td>\n",
       "    </tr>\n",
       "    <tr>\n",
       "      <th>7</th>\n",
       "      <td>2</td>\n",
       "      <td>2</td>\n",
       "    </tr>\n",
       "    <tr>\n",
       "      <th>8</th>\n",
       "      <td>1</td>\n",
       "      <td>1</td>\n",
       "    </tr>\n",
       "    <tr>\n",
       "      <th>9</th>\n",
       "      <td>1</td>\n",
       "      <td>1</td>\n",
       "    </tr>\n",
       "    <tr>\n",
       "      <th>10</th>\n",
       "      <td>2</td>\n",
       "      <td>2</td>\n",
       "    </tr>\n",
       "    <tr>\n",
       "      <th>11</th>\n",
       "      <td>0</td>\n",
       "      <td>0</td>\n",
       "    </tr>\n",
       "    <tr>\n",
       "      <th>12</th>\n",
       "      <td>0</td>\n",
       "      <td>0</td>\n",
       "    </tr>\n",
       "    <tr>\n",
       "      <th>13</th>\n",
       "      <td>0</td>\n",
       "      <td>0</td>\n",
       "    </tr>\n",
       "    <tr>\n",
       "      <th>14</th>\n",
       "      <td>0</td>\n",
       "      <td>0</td>\n",
       "    </tr>\n",
       "    <tr>\n",
       "      <th>15</th>\n",
       "      <td>1</td>\n",
       "      <td>1</td>\n",
       "    </tr>\n",
       "    <tr>\n",
       "      <th>16</th>\n",
       "      <td>2</td>\n",
       "      <td>2</td>\n",
       "    </tr>\n",
       "    <tr>\n",
       "      <th>17</th>\n",
       "      <td>1</td>\n",
       "      <td>1</td>\n",
       "    </tr>\n",
       "    <tr>\n",
       "      <th>18</th>\n",
       "      <td>1</td>\n",
       "      <td>1</td>\n",
       "    </tr>\n",
       "    <tr>\n",
       "      <th>19</th>\n",
       "      <td>2</td>\n",
       "      <td>2</td>\n",
       "    </tr>\n",
       "    <tr>\n",
       "      <th>20</th>\n",
       "      <td>0</td>\n",
       "      <td>0</td>\n",
       "    </tr>\n",
       "    <tr>\n",
       "      <th>21</th>\n",
       "      <td>2</td>\n",
       "      <td>2</td>\n",
       "    </tr>\n",
       "    <tr>\n",
       "      <th>22</th>\n",
       "      <td>0</td>\n",
       "      <td>0</td>\n",
       "    </tr>\n",
       "    <tr>\n",
       "      <th>23</th>\n",
       "      <td>2</td>\n",
       "      <td>2</td>\n",
       "    </tr>\n",
       "    <tr>\n",
       "      <th>24</th>\n",
       "      <td>2</td>\n",
       "      <td>2</td>\n",
       "    </tr>\n",
       "    <tr>\n",
       "      <th>25</th>\n",
       "      <td>2</td>\n",
       "      <td>2</td>\n",
       "    </tr>\n",
       "    <tr>\n",
       "      <th>26</th>\n",
       "      <td>2</td>\n",
       "      <td>2</td>\n",
       "    </tr>\n",
       "    <tr>\n",
       "      <th>27</th>\n",
       "      <td>2</td>\n",
       "      <td>2</td>\n",
       "    </tr>\n",
       "    <tr>\n",
       "      <th>28</th>\n",
       "      <td>0</td>\n",
       "      <td>0</td>\n",
       "    </tr>\n",
       "    <tr>\n",
       "      <th>29</th>\n",
       "      <td>0</td>\n",
       "      <td>0</td>\n",
       "    </tr>\n",
       "    <tr>\n",
       "      <th>30</th>\n",
       "      <td>0</td>\n",
       "      <td>0</td>\n",
       "    </tr>\n",
       "    <tr>\n",
       "      <th>31</th>\n",
       "      <td>0</td>\n",
       "      <td>0</td>\n",
       "    </tr>\n",
       "    <tr>\n",
       "      <th>32</th>\n",
       "      <td>1</td>\n",
       "      <td>2</td>\n",
       "    </tr>\n",
       "    <tr>\n",
       "      <th>33</th>\n",
       "      <td>0</td>\n",
       "      <td>0</td>\n",
       "    </tr>\n",
       "    <tr>\n",
       "      <th>34</th>\n",
       "      <td>0</td>\n",
       "      <td>0</td>\n",
       "    </tr>\n",
       "    <tr>\n",
       "      <th>35</th>\n",
       "      <td>2</td>\n",
       "      <td>2</td>\n",
       "    </tr>\n",
       "    <tr>\n",
       "      <th>36</th>\n",
       "      <td>1</td>\n",
       "      <td>1</td>\n",
       "    </tr>\n",
       "    <tr>\n",
       "      <th>37</th>\n",
       "      <td>0</td>\n",
       "      <td>0</td>\n",
       "    </tr>\n",
       "  </tbody>\n",
       "</table>\n",
       "</div>"
      ],
      "text/plain": [
       "    0  1\n",
       "0   1  1\n",
       "1   0  0\n",
       "2   2  2\n",
       "3   1  1\n",
       "4   1  2\n",
       "5   0  0\n",
       "6   1  1\n",
       "7   2  2\n",
       "8   1  1\n",
       "9   1  1\n",
       "10  2  2\n",
       "11  0  0\n",
       "12  0  0\n",
       "13  0  0\n",
       "14  0  0\n",
       "15  1  1\n",
       "16  2  2\n",
       "17  1  1\n",
       "18  1  1\n",
       "19  2  2\n",
       "20  0  0\n",
       "21  2  2\n",
       "22  0  0\n",
       "23  2  2\n",
       "24  2  2\n",
       "25  2  2\n",
       "26  2  2\n",
       "27  2  2\n",
       "28  0  0\n",
       "29  0  0\n",
       "30  0  0\n",
       "31  0  0\n",
       "32  1  2\n",
       "33  0  0\n",
       "34  0  0\n",
       "35  2  2\n",
       "36  1  1\n",
       "37  0  0"
      ]
     },
     "execution_count": 44,
     "metadata": {},
     "output_type": "execute_result"
    }
   ],
   "source": [
    "# смотрим разницу факта и прогноза\n",
    "result = pd.DataFrame([y_test, lda.predict(X_test)]).T\n",
    "result"
   ]
  },
  {
   "cell_type": "code",
   "execution_count": 46,
   "metadata": {},
   "outputs": [
    {
     "data": {
      "text/plain": [
       "0.9473684210526315"
      ]
     },
     "execution_count": 46,
     "metadata": {},
     "output_type": "execute_result"
    }
   ],
   "source": [
    "# расчет точности - отношение верных прогнозов к общему количеству позиций\n",
    "from sklearn.metrics import accuracy_score\n",
    "accuracy_score(y_test, lda.predict(X_test))"
   ]
  },
  {
   "cell_type": "code",
   "execution_count": 47,
   "metadata": {},
   "outputs": [
    {
     "data": {
      "image/png": "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",
      "text/plain": [
       "<Figure size 640x480 with 1 Axes>"
      ]
     },
     "metadata": {},
     "output_type": "display_data"
    }
   ],
   "source": [
    "# Визуализация тестовой выборки\n",
    "plt.scatter(X_test['sepal length (cm)'], X_test['sepal width (cm)'], c=y_test)\n",
    "plt.show()"
   ]
  },
  {
   "cell_type": "code",
   "execution_count": 48,
   "metadata": {},
   "outputs": [],
   "source": [
    "y_pred = lda.predict(X_test)"
   ]
  },
  {
   "cell_type": "code",
   "execution_count": 49,
   "metadata": {},
   "outputs": [
    {
     "data": {
      "image/png": "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",
      "text/plain": [
       "<Figure size 640x480 with 1 Axes>"
      ]
     },
     "metadata": {},
     "output_type": "display_data"
    }
   ],
   "source": [
    "# Визуализация предсказания для тестовой выборки\n",
    "plt.scatter(X_test['sepal length (cm)'], X_test['sepal width (cm)'], c=y_pred)\n",
    "plt.show()"
   ]
  },
  {
   "cell_type": "code",
   "execution_count": 50,
   "metadata": {},
   "outputs": [
    {
     "data": {
      "text/html": [
       "<style>#sk-container-id-3 {color: black;background-color: white;}#sk-container-id-3 pre{padding: 0;}#sk-container-id-3 div.sk-toggleable {background-color: white;}#sk-container-id-3 label.sk-toggleable__label {cursor: pointer;display: block;width: 100%;margin-bottom: 0;padding: 0.3em;box-sizing: border-box;text-align: center;}#sk-container-id-3 label.sk-toggleable__label-arrow:before {content: \"▸\";float: left;margin-right: 0.25em;color: #696969;}#sk-container-id-3 label.sk-toggleable__label-arrow:hover:before {color: black;}#sk-container-id-3 div.sk-estimator:hover label.sk-toggleable__label-arrow:before {color: black;}#sk-container-id-3 div.sk-toggleable__content {max-height: 0;max-width: 0;overflow: hidden;text-align: left;background-color: #f0f8ff;}#sk-container-id-3 div.sk-toggleable__content pre {margin: 0.2em;color: black;border-radius: 0.25em;background-color: #f0f8ff;}#sk-container-id-3 input.sk-toggleable__control:checked~div.sk-toggleable__content {max-height: 200px;max-width: 100%;overflow: auto;}#sk-container-id-3 input.sk-toggleable__control:checked~label.sk-toggleable__label-arrow:before {content: \"▾\";}#sk-container-id-3 div.sk-estimator input.sk-toggleable__control:checked~label.sk-toggleable__label {background-color: #d4ebff;}#sk-container-id-3 div.sk-label input.sk-toggleable__control:checked~label.sk-toggleable__label {background-color: #d4ebff;}#sk-container-id-3 input.sk-hidden--visually {border: 0;clip: rect(1px 1px 1px 1px);clip: rect(1px, 1px, 1px, 1px);height: 1px;margin: -1px;overflow: hidden;padding: 0;position: absolute;width: 1px;}#sk-container-id-3 div.sk-estimator {font-family: monospace;background-color: #f0f8ff;border: 1px dotted black;border-radius: 0.25em;box-sizing: border-box;margin-bottom: 0.5em;}#sk-container-id-3 div.sk-estimator:hover {background-color: #d4ebff;}#sk-container-id-3 div.sk-parallel-item::after {content: \"\";width: 100%;border-bottom: 1px solid gray;flex-grow: 1;}#sk-container-id-3 div.sk-label:hover label.sk-toggleable__label {background-color: #d4ebff;}#sk-container-id-3 div.sk-serial::before {content: \"\";position: absolute;border-left: 1px solid gray;box-sizing: border-box;top: 0;bottom: 0;left: 50%;z-index: 0;}#sk-container-id-3 div.sk-serial {display: flex;flex-direction: column;align-items: center;background-color: white;padding-right: 0.2em;padding-left: 0.2em;position: relative;}#sk-container-id-3 div.sk-item {position: relative;z-index: 1;}#sk-container-id-3 div.sk-parallel {display: flex;align-items: stretch;justify-content: center;background-color: white;position: relative;}#sk-container-id-3 div.sk-item::before, #sk-container-id-3 div.sk-parallel-item::before {content: \"\";position: absolute;border-left: 1px solid gray;box-sizing: border-box;top: 0;bottom: 0;left: 50%;z-index: -1;}#sk-container-id-3 div.sk-parallel-item {display: flex;flex-direction: column;z-index: 1;position: relative;background-color: white;}#sk-container-id-3 div.sk-parallel-item:first-child::after {align-self: flex-end;width: 50%;}#sk-container-id-3 div.sk-parallel-item:last-child::after {align-self: flex-start;width: 50%;}#sk-container-id-3 div.sk-parallel-item:only-child::after {width: 0;}#sk-container-id-3 div.sk-dashed-wrapped {border: 1px dashed gray;margin: 0 0.4em 0.5em 0.4em;box-sizing: border-box;padding-bottom: 0.4em;background-color: white;}#sk-container-id-3 div.sk-label label {font-family: monospace;font-weight: bold;display: inline-block;line-height: 1.2em;}#sk-container-id-3 div.sk-label-container {text-align: center;}#sk-container-id-3 div.sk-container {/* jupyter's `normalize.less` sets `[hidden] { display: none; }` but bootstrap.min.css set `[hidden] { display: none !important; }` so we also need the `!important` here to be able to override the default hidden behavior on the sphinx rendered scikit-learn.org. See: https://github.com/scikit-learn/scikit-learn/issues/21755 */display: inline-block !important;position: relative;}#sk-container-id-3 div.sk-text-repr-fallback {display: none;}</style><div id=\"sk-container-id-3\" class=\"sk-top-container\"><div class=\"sk-text-repr-fallback\"><pre>LinearDiscriminantAnalysis()</pre><b>In a Jupyter environment, please rerun this cell to show the HTML representation or trust the notebook. <br />On GitHub, the HTML representation is unable to render, please try loading this page with nbviewer.org.</b></div><div class=\"sk-container\" hidden><div class=\"sk-item\"><div class=\"sk-estimator sk-toggleable\"><input class=\"sk-toggleable__control sk-hidden--visually\" id=\"sk-estimator-id-3\" type=\"checkbox\" checked><label for=\"sk-estimator-id-3\" class=\"sk-toggleable__label sk-toggleable__label-arrow\">LinearDiscriminantAnalysis</label><div class=\"sk-toggleable__content\"><pre>LinearDiscriminantAnalysis()</pre></div></div></div></div></div>"
      ],
      "text/plain": [
       "LinearDiscriminantAnalysis()"
      ]
     },
     "execution_count": 50,
     "metadata": {},
     "output_type": "execute_result"
    }
   ],
   "source": [
    "lda = LinearDiscriminantAnalysis()\n",
    "lda.fit(X_test, y_pred)"
   ]
  },
  {
   "cell_type": "code",
   "execution_count": 51,
   "metadata": {},
   "outputs": [
    {
     "data": {
      "text/plain": [
       "array([[5.02666667, 3.42666667, 0.        ],\n",
       "       [5.96666667, 2.81111111, 1.        ],\n",
       "       [6.74285714, 2.95714286, 1.85714286]])"
      ]
     },
     "execution_count": 51,
     "metadata": {},
     "output_type": "execute_result"
    }
   ],
   "source": [
    "# центры классов\n",
    "lda.means_"
   ]
  },
  {
   "cell_type": "code",
   "execution_count": 52,
   "metadata": {},
   "outputs": [
    {
     "data": {
      "text/plain": [
       "<matplotlib.collections.PathCollection at 0x1f4238556c0>"
      ]
     },
     "execution_count": 52,
     "metadata": {},
     "output_type": "execute_result"
    },
    {
     "data": {
      "image/png": "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",
      "text/plain": [
       "<Figure size 640x480 with 1 Axes>"
      ]
     },
     "metadata": {},
     "output_type": "display_data"
    }
   ],
   "source": [
    "# Визуализация предсказания для тестовой выборки и центры классов\n",
    "plt.scatter(X_test['sepal length (cm)'], X_test['sepal width (cm)'], c=y_pred)\n",
    "plt.scatter(lda.means_[:, 0], lda.means_[:, 1], c='r', s=150, marker='*')"
   ]
  },
  {
   "cell_type": "code",
   "execution_count": 21,
   "metadata": {},
   "outputs": [
    {
     "data": {
      "text/html": [
       "<div>\n",
       "<style scoped>\n",
       "    .dataframe tbody tr th:only-of-type {\n",
       "        vertical-align: middle;\n",
       "    }\n",
       "\n",
       "    .dataframe tbody tr th {\n",
       "        vertical-align: top;\n",
       "    }\n",
       "\n",
       "    .dataframe thead th {\n",
       "        text-align: right;\n",
       "    }\n",
       "</style>\n",
       "<table border=\"1\" class=\"dataframe\">\n",
       "  <thead>\n",
       "    <tr style=\"text-align: right;\">\n",
       "      <th></th>\n",
       "      <th>sepal length (cm)</th>\n",
       "      <th>sepal width (cm)</th>\n",
       "    </tr>\n",
       "  </thead>\n",
       "  <tbody>\n",
       "    <tr>\n",
       "      <th>0</th>\n",
       "      <td>5.1</td>\n",
       "      <td>3.5</td>\n",
       "    </tr>\n",
       "    <tr>\n",
       "      <th>1</th>\n",
       "      <td>4.9</td>\n",
       "      <td>3.0</td>\n",
       "    </tr>\n",
       "    <tr>\n",
       "      <th>2</th>\n",
       "      <td>4.7</td>\n",
       "      <td>3.2</td>\n",
       "    </tr>\n",
       "    <tr>\n",
       "      <th>3</th>\n",
       "      <td>4.6</td>\n",
       "      <td>3.1</td>\n",
       "    </tr>\n",
       "    <tr>\n",
       "      <th>4</th>\n",
       "      <td>5.0</td>\n",
       "      <td>3.6</td>\n",
       "    </tr>\n",
       "    <tr>\n",
       "      <th>...</th>\n",
       "      <td>...</td>\n",
       "      <td>...</td>\n",
       "    </tr>\n",
       "    <tr>\n",
       "      <th>145</th>\n",
       "      <td>6.7</td>\n",
       "      <td>3.0</td>\n",
       "    </tr>\n",
       "    <tr>\n",
       "      <th>146</th>\n",
       "      <td>6.3</td>\n",
       "      <td>2.5</td>\n",
       "    </tr>\n",
       "    <tr>\n",
       "      <th>147</th>\n",
       "      <td>6.5</td>\n",
       "      <td>3.0</td>\n",
       "    </tr>\n",
       "    <tr>\n",
       "      <th>148</th>\n",
       "      <td>6.2</td>\n",
       "      <td>3.4</td>\n",
       "    </tr>\n",
       "    <tr>\n",
       "      <th>149</th>\n",
       "      <td>5.9</td>\n",
       "      <td>3.0</td>\n",
       "    </tr>\n",
       "  </tbody>\n",
       "</table>\n",
       "<p>150 rows × 2 columns</p>\n",
       "</div>"
      ],
      "text/plain": [
       "     sepal length (cm)  sepal width (cm)\n",
       "0                  5.1               3.5\n",
       "1                  4.9               3.0\n",
       "2                  4.7               3.2\n",
       "3                  4.6               3.1\n",
       "4                  5.0               3.6\n",
       "..                 ...               ...\n",
       "145                6.7               3.0\n",
       "146                6.3               2.5\n",
       "147                6.5               3.0\n",
       "148                6.2               3.4\n",
       "149                5.9               3.0\n",
       "\n",
       "[150 rows x 2 columns]"
      ]
     },
     "execution_count": 21,
     "metadata": {},
     "output_type": "execute_result"
    }
   ],
   "source": [
    "# Отбрасываем целевую переменную из data\n",
    "data_temp = data[['sepal length (cm)', 'sepal width (cm)']]\n",
    "data_temp"
   ]
  },
  {
   "cell_type": "code",
   "execution_count": 22,
   "metadata": {},
   "outputs": [
    {
     "data": {
      "text/plain": [
       "array([[5.1, 3.5],\n",
       "       [4.9, 3. ],\n",
       "       [4.7, 3.2],\n",
       "       [4.6, 3.1],\n",
       "       [5. , 3.6],\n",
       "       [5.4, 3.9],\n",
       "       [4.6, 3.4],\n",
       "       [5. , 3.4],\n",
       "       [4.4, 2.9],\n",
       "       [4.9, 3.1],\n",
       "       [5.4, 3.7],\n",
       "       [4.8, 3.4],\n",
       "       [4.8, 3. ],\n",
       "       [4.3, 3. ],\n",
       "       [5.8, 4. ],\n",
       "       [5.7, 4.4],\n",
       "       [5.4, 3.9],\n",
       "       [5.1, 3.5],\n",
       "       [5.7, 3.8],\n",
       "       [5.1, 3.8],\n",
       "       [5.4, 3.4],\n",
       "       [5.1, 3.7],\n",
       "       [4.6, 3.6],\n",
       "       [5.1, 3.3],\n",
       "       [4.8, 3.4],\n",
       "       [5. , 3. ],\n",
       "       [5. , 3.4],\n",
       "       [5.2, 3.5],\n",
       "       [5.2, 3.4],\n",
       "       [4.7, 3.2],\n",
       "       [4.8, 3.1],\n",
       "       [5.4, 3.4],\n",
       "       [5.2, 4.1],\n",
       "       [5.5, 4.2],\n",
       "       [4.9, 3.1],\n",
       "       [5. , 3.2],\n",
       "       [5.5, 3.5],\n",
       "       [4.9, 3.6],\n",
       "       [4.4, 3. ],\n",
       "       [5.1, 3.4],\n",
       "       [5. , 3.5],\n",
       "       [4.5, 2.3],\n",
       "       [4.4, 3.2],\n",
       "       [5. , 3.5],\n",
       "       [5.1, 3.8],\n",
       "       [4.8, 3. ],\n",
       "       [5.1, 3.8],\n",
       "       [4.6, 3.2],\n",
       "       [5.3, 3.7],\n",
       "       [5. , 3.3],\n",
       "       [7. , 3.2],\n",
       "       [6.4, 3.2],\n",
       "       [6.9, 3.1],\n",
       "       [5.5, 2.3],\n",
       "       [6.5, 2.8],\n",
       "       [5.7, 2.8],\n",
       "       [6.3, 3.3],\n",
       "       [4.9, 2.4],\n",
       "       [6.6, 2.9],\n",
       "       [5.2, 2.7],\n",
       "       [5. , 2. ],\n",
       "       [5.9, 3. ],\n",
       "       [6. , 2.2],\n",
       "       [6.1, 2.9],\n",
       "       [5.6, 2.9],\n",
       "       [6.7, 3.1],\n",
       "       [5.6, 3. ],\n",
       "       [5.8, 2.7],\n",
       "       [6.2, 2.2],\n",
       "       [5.6, 2.5],\n",
       "       [5.9, 3.2],\n",
       "       [6.1, 2.8],\n",
       "       [6.3, 2.5],\n",
       "       [6.1, 2.8],\n",
       "       [6.4, 2.9],\n",
       "       [6.6, 3. ],\n",
       "       [6.8, 2.8],\n",
       "       [6.7, 3. ],\n",
       "       [6. , 2.9],\n",
       "       [5.7, 2.6],\n",
       "       [5.5, 2.4],\n",
       "       [5.5, 2.4],\n",
       "       [5.8, 2.7],\n",
       "       [6. , 2.7],\n",
       "       [5.4, 3. ],\n",
       "       [6. , 3.4],\n",
       "       [6.7, 3.1],\n",
       "       [6.3, 2.3],\n",
       "       [5.6, 3. ],\n",
       "       [5.5, 2.5],\n",
       "       [5.5, 2.6],\n",
       "       [6.1, 3. ],\n",
       "       [5.8, 2.6],\n",
       "       [5. , 2.3],\n",
       "       [5.6, 2.7],\n",
       "       [5.7, 3. ],\n",
       "       [5.7, 2.9],\n",
       "       [6.2, 2.9],\n",
       "       [5.1, 2.5],\n",
       "       [5.7, 2.8],\n",
       "       [6.3, 3.3],\n",
       "       [5.8, 2.7],\n",
       "       [7.1, 3. ],\n",
       "       [6.3, 2.9],\n",
       "       [6.5, 3. ],\n",
       "       [7.6, 3. ],\n",
       "       [4.9, 2.5],\n",
       "       [7.3, 2.9],\n",
       "       [6.7, 2.5],\n",
       "       [7.2, 3.6],\n",
       "       [6.5, 3.2],\n",
       "       [6.4, 2.7],\n",
       "       [6.8, 3. ],\n",
       "       [5.7, 2.5],\n",
       "       [5.8, 2.8],\n",
       "       [6.4, 3.2],\n",
       "       [6.5, 3. ],\n",
       "       [7.7, 3.8],\n",
       "       [7.7, 2.6],\n",
       "       [6. , 2.2],\n",
       "       [6.9, 3.2],\n",
       "       [5.6, 2.8],\n",
       "       [7.7, 2.8],\n",
       "       [6.3, 2.7],\n",
       "       [6.7, 3.3],\n",
       "       [7.2, 3.2],\n",
       "       [6.2, 2.8],\n",
       "       [6.1, 3. ],\n",
       "       [6.4, 2.8],\n",
       "       [7.2, 3. ],\n",
       "       [7.4, 2.8],\n",
       "       [7.9, 3.8],\n",
       "       [6.4, 2.8],\n",
       "       [6.3, 2.8],\n",
       "       [6.1, 2.6],\n",
       "       [7.7, 3. ],\n",
       "       [6.3, 3.4],\n",
       "       [6.4, 3.1],\n",
       "       [6. , 3. ],\n",
       "       [6.9, 3.1],\n",
       "       [6.7, 3.1],\n",
       "       [6.9, 3.1],\n",
       "       [5.8, 2.7],\n",
       "       [6.8, 3.2],\n",
       "       [6.7, 3.3],\n",
       "       [6.7, 3. ],\n",
       "       [6.3, 2.5],\n",
       "       [6.5, 3. ],\n",
       "       [6.2, 3.4],\n",
       "       [5.9, 3. ]])"
      ]
     },
     "execution_count": 22,
     "metadata": {},
     "output_type": "execute_result"
    }
   ],
   "source": [
    "X = data_temp[['sepal length (cm)', 'sepal width (cm)']].to_numpy()\n",
    "X"
   ]s
  },
  {
   "cell_type": "code",
   "execution_count": 23,
   "metadata": {},
   "outputs": [
    {
     "name": "stderr",
     "output_type": "stream",
     "text": [
      "C:\\Users\\Игнат\\AppData\\Local\\Temp\\ipykernel_34072\\1686605575.py:1: UserWarning: No data for colormapping provided via 'c'. Parameters 'cmap' will be ignored\n",
      "  plt.scatter(X[:, 0], X[:, 1], cmap='autumn', s=60)\n"
     ]
    },
    {
     "data": {
      "text/plain": [
       "<matplotlib.collections.PathCollection at 0x1f422fe1360>"
      ]
     },
     "execution_count": 23,
     "metadata": {},
     "output_type": "execute_result"
    },
    {
     "data": {
      "image/png": "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",
      "text/plain": [
       "<Figure size 640x480 with 1 Axes>"
      ]
     },
     "metadata": {},
     "output_type": "display_data"
    }
   ],
   "source": [
    "plt.scatter(X[:, 0], X[:, 1], cmap='autumn', s=60)"
   ]
  },
  {
   "cell_type": "code",
   "execution_count": 24,
   "metadata": {},
   "outputs": [
    {
     "data": {
      "text/plain": [
       "<Axes: xlabel='sepal length (cm)', ylabel='sepal width (cm)'>"
      ]
     },
     "execution_count": 24,
     "metadata": {},
     "output_type": "execute_result"
    },
    {
     "data": {
      "image/png": "iVBORw0KGgoAAAANSUhEUgAAAjgAAAGzCAYAAAAi6m1wAAAAOXRFWHRTb2Z0d2FyZQBNYXRwbG90bGliIHZlcnNpb24zLjcuMCwgaHR0cHM6Ly9tYXRwbG90bGliLm9yZy88F64QAAAACXBIWXMAAA9hAAAPYQGoP6dpAABEG0lEQVR4nO3deVyVZfo/8M8REMEA2UVFwTDcFUUTcamx9JtO5VhNWTmp6TdHXNKvaS5j1oxiNZVLpkOZRhbWuEzMTItOI2gM5Qa5IyYKkQ6gKAqFAvfvj36cPLKd53jOc+5zP5/368Xr5XmW81zXc3MOl892mYQQAkREREQKaebsAIiIiIjsjQUOERERKYcFDhERESmHBQ4REREphwUOERERKYcFDhERESmHBQ4REREphwUOERERKYcFDhERESmHBQ4REREpx93ZAdRKTEzEggULMHPmTKxYsaLeZdLS0nD33XfXmX78+HF07tzZqu3U1NTghx9+gI+PD0wm062ETERERDoRQuDKlSto06YNmjVr+viMFAXOvn37kJSUhJ49e1q1fE5ODnx9fc2vg4ODrd7WDz/8gPDwcM0xEhERkfMVFBSgXbt2TS7n9ALn6tWreOKJJ/D222/jT3/6k1XrhISEoFWrVjZtz8fHB8DPO+jGIomIiIjkVVZWhvDwcPPf8aY4vcBJSEjAqFGjcM8991hd4MTExOCnn35C165dsWjRonpPW9WqrKxEZWWl+fWVK1cAAL6+vixwiIiIXIy1l5c4tcDZvHkzDh48iH379lm1fFhYGJKSktC3b19UVlbi/fffx7Bhw5CWloYhQ4bUu05iYiJefPFFe4ZNREREkjMJIYQzNlxQUIDY2Fjs2LEDvXr1AgDcdddd6N27d4MXGdfn/vvvh8lkQmpqar3zbz6CU3uI6/LlyzyCQ0RE5CLKysrg5+dn9d9vp90mfuDAARQVFaFv375wd3eHu7s70tPTsWrVKri7u6O6utqq9xkwYAByc3MbnO/p6Wk+HcXTUkRERMbgtFNUw4YNw+HDhy2mTZgwAZ07d8a8efPg5uZm1ftkZWUhLCzMESESERGRi3JagePj44Pu3btbTGvZsiUCAwPN0+fPn4/CwkIkJycDAFasWIGIiAh069YN165dw6ZNm7B161Zs3bpV9/iJiIhIXk6/i6ox586dQ35+vvn1tWvXMGfOHBQWFsLLywvdunXDP//5T4wcOdKJURIREZFsnHaRsbNovUiJiIiInM9lLjImIiIichQWOERERKQcFjhERESkHKkvMiYifZwuvoqzFysQEdgSkUEtnR0OEdEtY4FDZGCXKq5hRko2ducWm6cN6RSM1WNj4Oft4cTIiIhuDU9RERnYjJRsZJwqsZiWcaoE01OynBQREZF9sMAhMqjTxVexO7cY1Tc9KaJaCOzOLUZeSbmTIiMiunUscIgM6uzFikbnn7nAAoeIXBcLHCKD6hDg3ej8iEBebExErosFDpFBdQy+DUM6BcPNZLKY7mYyYUinYN5NRUQujQUOkYGtHhuD+Kggi2nxUUFYPTbGSREREdkHbxMnMjA/bw8kP90feSXlOHOhnM/BISJlsMAhIkQGsbAhIrXwFBUREREphwUOERERKYcFDhERESmHBQ4REREphwUOERERKYcFDhERESmHBQ4REREphwUOERERKYcFDhERESmHBQ4REREphwUOERERKYcFDhERESmHBQ4REREphwUOERERKYcFDhERESmHBQ4REREphwUOERERKYcFDhERESnH3dkBEFHjThdfxdmLFYgIbInIoJbODoeIyCWwwCGS1KWKa5iRko3ducXmaUM6BWP12Bj4eXs4MTIiIvnxFBWRpGakZCPjVInFtIxTJZiekuWkiIiIXAcLHCIJnS6+it25xagWwmJ6tRDYnVuMvJJyJ0VGROQaWOAQSejsxYpG55+5wAKHiKgxLHCIJNQhwLvR+RGBvNiYiKgxLHCIJNQx+DYM6RQMN5PJYrqbyYQhnYJ5NxURURNY4BBJavXYGMRHBVlMi48KwuqxMU6KiIjIdfA2cSJJ+Xl7IPnp/sgrKceZC+V8Dg4RkQYscIgkFxnEwoaISCueoiIiIiLlsMAhIiIi5bDAISIiIuWwwCEiIiLl8CJjohuwczcRkRpY4BCBnbuJiFTDU1REYOduIiLVsMAhw2PnbiIi9bDAIcNj524iIvWwwCHDY+duIiL1sMAhw2PnbiIi9bDAIQI7dxMRqYa3iROBnbuJiFTDAofoBuzcTUSkBp6iIiIiIuWwwCEiIiLlsMAhIiIi5bDAISIiIuVIU+AkJibCZDLh2WefbXS59PR09O3bFy1atEDHjh2xbt06fQIkIguni69iV04RW1kQkZSkuItq3759SEpKQs+ePRtdLi8vDyNHjsTkyZOxadMmZGRkYOrUqQgODsZDDz2kU7RExsbO60TkCpx+BOfq1at44okn8Pbbb8Pf37/RZdetW4f27dtjxYoV6NKlCyZNmoSJEyfiz3/+s07REhE7rxORK3B6gZOQkIBRo0bhnnvuaXLZzMxMDB8+3GLaiBEjsH//fly/fr3edSorK1FWVmbxQ0S2Yed1InIVTi1wNm/ejIMHDyIxMdGq5c+fP4/Q0FCLaaGhoaiqqkJJSUm96yQmJsLPz8/8Ex4efstxExkVO68TkatwWoFTUFCAmTNnYtOmTWjRooXV65luaogo/v//JG+eXmv+/Pm4fPmy+aegoMD2oIkMjp3XichVOO0i4wMHDqCoqAh9+/Y1T6uursbu3bvx5ptvorKyEm5ubhbrtG7dGufPn7eYVlRUBHd3dwQGBta7HU9PT3h6eto/ASIDqu28nnGqxOI0lZvJhPioILa5ICJpOO0IzrBhw3D48GFkZ2ebf2JjY/HEE08gOzu7TnEDAHFxcdi5c6fFtB07diA2NhYeHrx7g0gP7LxORK7AaUdwfHx80L17d4tpLVu2RGBgoHn6/PnzUVhYiOTkZADAlClT8Oabb2L27NmYPHkyMjMzsX79eqSkpOgeP5FRsfM6EbkCKZ6D05Bz584hPz/f/DoyMhKffvopZs2ahTVr1qBNmzZYtWoVn4FD5ATsvE5EMjMJcdP9noorKyuDn58fLl++DF9fX2eHQ0RERFbQ+vfb6c/BISIiIrI3FjhERESkHBY4REREpBypLzImUlF6ThGyv7+EPu39MbhTsLPDISJSEgscIp2cvVCO0WsyUFrxS980f28PpCYMQnhg408IJiIibXiKikgnNxc3AFBacR0PrPnKSREREamLBQ6RDtJziuoUN7VKK65jT26xzhEREamNBQ6RDrK/v9To/IP5pfoEQkRkECxwiHTQu12rRuf3ae+vTyBERAbBAodIB0OjQ+DvXX9DWH9vD95NRURkZyxwiHSSmjCoTpFTexcVERHZF28TJ9JJeKA3shYPx57cYhzML+VzcIiIHIgFDpHOBncKZmFDRORgPEVFREREymGBQ0RERMphgUNERETKYYFDREREyuFFxqSsj/bmIzPvAuJvD8IjseHODkdqp4uv4uzFCkQEtkRkUEtnh0NEDqLHZ12W7xOTEEI4betOUFZWBj8/P1y+fBm+vr7ODocc4PD3l/Cbt/6DqppffrXdm5mQmhCPrm39nBiZfC5VXMOMlGzsvqEX1pBOwVg9NgZ+DTyYkIhcjx6fdUdvQ+vfb56iIuXcXNwAQFWNwANrMpwUkbxmpGQj41SJxbSMUyWYnpLlpIiIyBH0+KzL9n3CAoeU8tHe/DrFTa2qGoG/7i/QOSJ5nS6+it25xai+6SButRDYnVuMvJJyJ0VGRPakx2ddxu8TFjiklMy8C43Oz/iupNH5RnL2YkWj889cYIFDpAI9Pusyfp+wwCGlxEUGNjo//vYgnSKRX4cA70bnRwTyYmMiFejxWZfx+4QFDinl0f7t4d7MVO8892Ym3k11g47Bt2FIp2C4mSz3l5vJhCGdgnk3FZEi9Pisy/h9wgKHlJOaEF+nyKm9i4osrR4bg/goy6Na8VFBWD02xkkREZEj6PFZl+37hLeJk7L+ur8AGd+V8Dk4VsgrKceZC+VOf24FETmWHp91R21D699vFjhEREQkPT4Hh4iIiAyPBQ4REREphwUOERERKYcFDhERESmH3cRJWbJ2zZWl0y4RkcpY4JByZO2ay87dRET64SkqUo6sXXNl67RLRKQyFjikFFm75srYaZeISGUscEgpsnbNlbHTLhGRyljgkFJk7ZorY6ddIiKVscAhpcjaNVfGTrtERCpjgUPKkbVrrmyddomIVMZmm6QsWbvmsnM3EZF27CbeBBY4RERErofdxImIiMjwWOAQERGRcljgEBERkXJY4BAREZFy2GzTAGTsXs0u3ETkLPwuMQYWOAqTsXs1u3ATkbPwu8RYeIpKYTJ2r2YXbiJyFn6XGAsLHEXJ2L2aXbiJyFn4XWI8LHAUJWP3anbhJiJn4XeJ8Wi6BicnJwcpKSnYs2cPzpw5g4qKCgQHByMmJgYjRozAQw89BE9PT0fFShrI2L2aXbiJyFn4XWI8Vh3BycrKwr333otevXph9+7d6NevH5599ln88Y9/xJNPPgkhBBYuXIg2bdrg5ZdfRmVlpaPjpibI2L2aXbiJyFn4XWI8VvWi6tChA5577jk8/vjjCAgIaHC5zMxMvPHGG+jduzcWLFhg10DtxUi9qC5XXMf0lCyp7hiwJSYZ8yAi18PvEtfmkGab165dQ/Pmza0OQuvyejJSgVNLxu7V7MJNRM7C7xLXxG7iTTBigUNEROTqtP79tulBf3v37kVaWhqKiopQU1NjMe/111+35S2JiIiI7EZzgbNs2TIsWrQI0dHRCA0NhemGC7ZMN128RUREROQMmguclStX4t1338X48eMdEA4RERHRrdP8oL9mzZohPj7eEbEQERER2YXmAmfWrFlYs2aNXTa+du1a9OzZE76+vvD19UVcXBw+++yzBpdPS0uDyWSq83PixAm7xENyS88pwsovT2LPDbd42nN54OfHue/KKZLqse0yxkREJDvNp6jmzJmDUaNG4fbbb0fXrl3h4WH57IBt27ZZ/V7t2rXD8uXLERUVBQB477338OCDDyIrKwvdunVrcL2cnByLK6iDg4M1ZkGu5OyFcoxek4HSiuvmaf7eHkhNGITwwLpPJ9W6PCBnl2EZYyIichWaj+BMnz4du3btwh133IHAwED4+flZ/Ghx//33Y+TIkbjjjjtwxx13YOnSpbjtttvw9ddfN7peSEgIWrdubf5xc3PTmga5kJuLFQAorbiOB9Z8ZZflATm7DMsYExGRq9B8BCc5ORlbt27FqFGj7BpIdXU1/vrXv6K8vBxxcXGNLhsTE4OffvoJXbt2xaJFi3D33Xc3uGxlZaVF64iysjK7xUyOl55TVKdYqVVacR17cosxuFOwzcsDv3QZvtmNXYb1fhiYjDEREbkSzUdwAgICcPvtt9stgMOHD+O2226Dp6cnpkyZgu3bt6Nr1671LhsWFoakpCRs3boV27ZtQ3R0NIYNG4bdu3c3+P6JiYkWR5jCw8PtFjs5Xvb3lxqdfzC/9JaWB+TsMixjTERErkTzEZwlS5bghRdewIYNG+Dt3Xh3VmtER0cjOzsbly5dwtatW/HUU08hPT293iInOjoa0dHR5tdxcXEoKCjAn//8ZwwZMqTe958/fz5mz55tfl1WVsYix4X0bteq0fl92vvf0vKAnF2GZYyJiMiVaC5wVq1ahe+++w6hoaGIiIioc5HxwYMHNb1f8+bNzRcZx8bGYt++fVi5ciX+8pe/WLX+gAEDsGnTpgbne3p6wtPTU1NMJI+h0SHw9/ao97STv7dHndNNWpcHfukynHGqBNU3dC5xM5kQHxXk1M7rMsVERORKNBc4o0ePdkAYvxBCWFwz05SsrCyEhYU5MCJyttSEQXhgzVf13hVlj+UBYPXYmDpdhuOjgrB6bIwdMrCNjDEREbkKpzbbXLBgAe677z6Eh4fjypUr2Lx5M5YvX47PP/8c9957L+bPn4/CwkIkJycDAFasWIGIiAh069YN165dw6ZNm7B8+XJs3boVY8aMsWqbbLbpuvbkFuNgfin6tPev90jMrS4PyNllWMaYiIj05vBmm/v27UNNTQ3uvPNOi+nffPMN3NzcEBsba/V7/fe//8W4ceNw7tw5+Pn5oWfPnubiBgDOnTuH/Px88/LXrl3DnDlzUFhYCC8vL3Tr1g3//Oc/MXLkSK1pkAsa3CnY6kLFluUBIDJIviJCxpiIiGSn+QhO//79MXfuXDz88MMW07dt24aXX34Z33zzjV0DtDcewSEiInI9Wv9+a75N/NixY+jTp0+d6TExMTh27JjWtyMiIiKyO80FjqenJ/773//WmX7u3Dm4u2s+40VERERkd5oLnNqLfy9fvmyedunSJSxYsMB87QwRERGRM2k+5PLaa69hyJAh6NChA2Jifr5dNTs7G6GhoXj//fftHiDdutPFV3H2YoVD78JJzylC9veXNN2x5Oht2JK3KvtKFXqMh9Zt6BETEd06zQVO27ZtcejQIXzwwQf49ttv4eXlhQkTJmDs2LF1HvpHzqVHN2pbOnc7ehu25K3KvlKFHuOhdRvs7k7kWpz6HBxnMNJdVL9bv7fBJ+EmP93fLtuIeWlHg08Nzlo83CnbsCVvVfaVKvQYD63b0CMmImqYQ+6iyszMtDqA8vJyHD161OrlyTFqu1FX31S/3tiN+lZZ07lb723Ykrcq+0oVeoyH1m3oERMR2ZdVBc7vfvc73Hvvvfj4449x9erVepc5duwYFixYgKioKM39qMj+9OhGbUvnbkdvw5a8VdlXqtBjPLRug93diVyPVdfgHDt2DH/5y1+wePFiPPHEE7jjjjvQpk0btGjRAqWlpThx4gTKy8sxZswY7Ny5E927d3d03NQEPbpR29K529HbsCVvVfaVKvQYD63bYHd3Itdj1REcDw8PTJs2DSdOnMA333yD//3f/0X37t3Rtm1b3HXXXfjLX/6CwsJCfPDBByxuJFHbjdrNZLKY7mYyYUinYLvc/VHbubs+DXXudvQ2bMlblX2lCj3GQ+s29IiJiOyLFxkr7HLF9TrdqO1910fBhYoGO3fb684grduwJW9V9pUq9BgPrdvQIyYiapjWv98scAxAj27UtnTudvQ2bMlblX2lCj3GQ+s22N2dyDlY4DTBiAUOERGRq3N4s00iIiIi2bHAISIiIuWwwCEiIiLlaO5FBQBffvklvvzySxQVFaGmpsZi3rvvvmuXwIiIiIhspbnAefHFF/HSSy8hNjYWYWFhMN30XAgiR2HXZ5KBSt3gVcqF6GaaC5x169Zh48aNGDdunCPiIaqDXZ9JBip1g1cpF6KGaL4G59q1axg4cKAjYiGq14yUbGScKrGYlnGqBNNTsuyyPJE1bi4IgJ8bpT6w5isnRWQ7lXIhaojmAmfSpEn48MMPHRELUR3s+kwyUKkbvEq5EDXGqlNUs2fPNv+7pqYGSUlJ+Ne//oWePXvCw8PykP/rr79u3wjJ0Kzp4nzj9TValyeyhjXd4F3lGhaVciFqjFUFTlaW5aH93r17AwCOHDli94CIbsSuzyQDlbrBq5QLUWOsKnB27drl6DiI6lXbxTnjVInFaSc3kwnxUUENdn22dnkia9R2g6/v1I6rdYNXKReixmi+BmfixIm4cuVKnenl5eWYOHGiXYIiutHqsTGIjwqymBYfFYTVY2PssjyRNVITBsH/prvwau88cjUq5ULUEM3NNt3c3HDu3DmEhIRYTC8pKUHr1q1RVVVl1wDtjc02XRe7PpMMVOoGr1IupD6tf7+tfg5OWVkZhBAQQuDKlSto0aKFeV51dTU+/fTTOkUPkT1FBmkrVLQuT2SNwZ2ClSkGVMqF6GZWFzitWrWCyWSCyWTCHXfcUWe+yWTCiy++aNfgiIiIiGxhdYGza9cuCCHwq1/9Clu3bkVAQIB5XvPmzdGhQwe0adPGIUESERERaWF1gTN06FAAQF5eHtq3b88eVERERCQtqwqcQ4cOWbw+fPhwg8v27Nnz1iIiIiIiukVWFTi9e/eGyWSCEKLJIzfV1dV2CcwI9Op2rXU7snYYZndw12bk8bPlMyXj/rIlJq3r6JG3jPuW7M+qAicvL8/876ysLMyZMwfPPfcc4uLiAACZmZl47bXX8MorrzgmSsXo1e1a63Zk7TDM7uCuzcjjZ8tnSsb9ZUtMWtfRI28Z9y05jubn4PTv3x9LlizByJEjLaZ/+umn+MMf/oADBw7YNUB7k+E5OL9bv7fBJ+0mP93faduJeWlHg083zVo83G5xaaXX/iLHMPL42fKZknF/2RKT1nX0yFvGfUvW0/r3W/OTjA8fPozIyMg60yMjI3Hs2DGtb2c4enW71rodWTsMszu4azPy+NnymZJxf9kSk9Z19Mhbxn1LjqW5wOnSpQv+9Kc/4aeffjJPq6ysxJ/+9Cd06dLFrsGpyJpu187YjjUdhp1Br/1FjmHk8bPlMyXj/rIlJq3r6JG3jPuWHMvq28RrrVu3Dvfffz/Cw8PRq1cvAMC3334Lk8mEf/zjH3YPUDV6dbvWuh1ZOwyzO7hrM/L42fKZknF/2RKT1nX0yFvGfUuOpfkITv/+/ZGXl4elS5eiZ8+e6NGjB5YtW4a8vDz0789zmE2p7XbtdtPdaG4mE4Z0CrbbFf1at1PbYbg+zuwwrNf+Iscw8vjZ8pmScX/ZEpPWdfTIW8Z9S46l+SJjVyfDRcaXK65jekqWw6/k17qdggsVeGDNV9LdRaXX/iLHMPL42fKZknF/2RKT1nX0yFvGfUvW0/r326oCJzU1Fffddx88PDyQmpra6LIPPPCA9dE6gQwFTi29ul1r3Y6sHYbZHdy1GXn8bPlMybi/bIlJ6zp65C3jvqWmOaTAadasGc6fP4+QkBA0a9bwWS2TyST9g/5kKnCIiIjIOlr/flt1kXFNTU29/yYiIiKSkeaLjCsqGr/VjoiIiMjZNN8m3qpVK8TGxuKuu+7C0KFDMWjQILRsyXOYREREJA/NR3DS09PxwAMP4ODBg3jkkUfg7++PAQMG4Pnnn8dnn33miBiJiIiINLml28Srq6uxb98+rFu3Dh988AFqamp4kbGEZOzOK2vHciJHkLV79Ud785GZdwHxtwfhkdhwl90GGYND7qK62YkTJ5CWlob09HSkpaXh+vXrGDJkCIYOHYqZM2faFLhejFTgyNidV9aO5USOIGv36sPfX8Jv3voPqmp++fp3b2ZCakI8urb1c5ltkLE4vMBp3bo1rl+/jl/96le46667MGTIEPTo0cPmgPVmpAJHxu68snYsJ3IEWbtXRy341KLwqOXezIRTy0a6zDbIWBzeTbx169a4evUq8vPzkZ+fj++//x5Xr161KVhyHBm788rasZzIEWTtXv3R3vx6Cw8AqKoR+Ov+ApfYBlFTNBc42dnZ+O9//4uFCxeiqqoKf/jDHxAcHIw777wTzz//vCNiJBvI2J1X1o7lRI4ga/fqzLwLjc7P+K7EJbZB1BTNBQ7w863iDzzwABYuXIgFCxbgt7/9LQ4ePIhXX33V3vGRjWTszitrx3IiR5C1e3VcZGCj8+NvD3KJbRA1RXOBs337dsycORO9evVCSEgIfv/736O8vBxvvPEGDh065IgYyQYydueVtWM5kSPI2r360f7t4d7MVO8892Ymu9zppMc2iJqiucB55plnUFhYiMmTJ5tPV23ZsgXTpk1Dt27dHBEj2Wj12BjER1n+Tyk+Kgirx8Y4bRupCYPqFDm1d1ERqUaPz6AtUhPi6xQgtXc4udI2iBpzS8/BcUVGuouqlozdeWXtWE7kCLJ2r/7r/gJkfFfi0GfU6LENMgZdnoPjyoxY4BAREbk6h98mTkRERCQ7FjhERESkHBY4REREpBwWOERERKQcd2sWGjNmjNVvuG3bNquXXbt2LdauXYszZ84AALp164bFixfjvvvua3Cd9PR0zJ49G0ePHkWbNm0wd+5cTJkyxeptOpLWjsGydhi2hdbu4Lbkrsr+0iMPPcbD0THZEpdKXeq1duG2ZQxl/D2xhVG/e438PWoNqwocPz/HdH5t164dli9fjqioKADAe++9hwcffBBZWVn1PlMnLy8PI0eOxOTJk7Fp0yZkZGRg6tSpCA4OxkMPPeSQGK2htWOwrB2GbaG1O7gtuauyv/TIQ4/xcHRMtsSlUpf6m7tw/y3rB8zfdrjBLty2jKGMvye2MOp3r5G/R7WQ7jbxgIAAvPrqq3j66afrzJs3bx5SU1Nx/Phx87QpU6bg22+/RWZmplXv74jbxLV2DJa1w7AttHYHtyV3VfaXHnnoMR6OjsmWuFTqUq+1C7ctYyjj74ktjPrda9TvUZe9Tby6uhqbN29GeXk54uLi6l0mMzMTw4dbfvhGjBiB/fv34/r1+rtUV1ZWoqyszOLHnrR2DJa1w7AttHYHtyV3VfaXHnnoMR6OjsmWuFTqUq+1C7ctYyjj74ktjPrda+TvUa1sKnC2bNmC3/72txgwYAD69Olj8aPV4cOHcdttt8HT0xNTpkzB9u3b0bVr13qXPX/+PEJDQy2mhYaGoqqqCiUl9XenTUxMhJ+fn/knPNy+T9LU2jFY1g7DttDaHdyW3FXZX3rkocd4aGVLB3kjd6nX2oXbljGU8ffEFkb97jXy96hWmgucVatWYcKECQgJCUFWVhb69++PwMBAnD59utGLgxsSHR2N7OxsfP311/j973+Pp556CseOHWtwedNNjetqz7DdPL3W/PnzcfnyZfNPQUFBvcvZSmvHYFk7DNtCa3dwW3JXZX/pkYce46GVLR3kjdylXmsXblvGUMbfE1sY9bvXyN+jWmkucN566y0kJSXhzTffRPPmzTF37lzs3LkTM2bMwOXLlzUH0Lx5c0RFRSE2NhaJiYno1asXVq5cWe+yrVu3xvnz5y2mFRUVwd3dHYGB9X8xeHp6wtfX1+LHnrR2DJa1w7AttHYHtyV3VfaXHnnoMR6OjsmWuFTqUq+1C7ctYyjj74ktjPrda+TvUa00Fzj5+fkYOHAgAMDLywtXrlwBAIwbNw4pKSm3HJAQApWVlfXOi4uLw86dOy2m7dixA7GxsfDwcN5V4Fo7BsvaYdgWWruD25K7KvtLjzz0GA9Hx2RLXCp1qdfahduWMZTx98QWRv3uNfL3qBaa76Lq2LEjtmzZgj59+qBfv36YNGkSnnnmGezYsQOPPfYYLl68aPV7LViwAPfddx/Cw8Nx5coVbN68GcuXL8fnn3+Oe++9F/Pnz0dhYSGSk5MB/HybePfu3fHMM89g8uTJyMzMxJQpU5CSkmL1beKObLaptWOwrB2GbaG1O7gtuauyv/TIQ4/xcHRMtsSlUpd6rV24bRlDGX9PbGHU716jfY86vJv4pEmTEB4ejhdeeAHr1q3D7NmzER8fj/3792PMmDFYv3691e/19NNP48svv8S5c+fg5+eHnj17Yt68ebj33nsBAOPHj8eZM2eQlpZmXic9PR2zZs0yP+hv3rx5mh70x27iRERErsfhBU5NTQ1qamrg7v7zMwI//vhjfPXVV4iKisKUKVPQvHlz2yLXCQscIiIi1+PwAsfVscAhIiJyPVr/flvVquFmpaWlWL9+PY4fPw6TyYQuXbpgwoQJCAgIsOXtiIiIiOxK811U6enpiIyMxKpVq1BaWoqLFy9i1apViIyMRHp6uiNiJCIiItJE8ymq7t27Y+DAgVi7di3c3NwA/NxmYerUqcjIyMCRI0ccEqi9yHSKykhdXUlfqnRX1iMPGbdhC1nHUBXcv87n8GtwvLy8kJ2djejoaIvpOTk56N27N3788UdtEetMhgLHiF1dSR+qdFfWIw8Zt2ELWcdQFdy/8nB4s80+ffpYdPOudfz4cfTu3Vvr2xnSjJRsZJyy7CmTcaoE01OynBQRqULr75asv4t65CHjNmwh6xiqgvvXdWm+yHjGjBmYOXMmTp06hQEDBgAAvv76a6xZswbLly/HoUOHzMv27NnTfpEqorar681u7OrKw59kC62/W7L+LuqRh4zbsIWsY6gK7l/XprnAGTt2LABg7ty59c4zmUwQQsBkMqG6uvrWI1SMNV1d+YEhW2j93ZL1d1GPPGTchi1kHUNVcP+6Ns0FTl5eniPiMAyjdnUlx1Olu7Ieeci4DVvIOoaq4P51bZqvwenQoYPVP1SXUbu6kuOp0l1Zjzxk3IYtZB1DVXD/ujbNBQ4AvP/++4iPj0ebNm1w9uxZAMCKFSvwySef2DU4VRmxqyvpQ5XuynrkIeM2bCHrGKqC+9d1ab5NfO3atVi8eDGeffZZLF26FEeOHEHHjh2xceNGvPfee9i1a5ejYrULGW4Tr+XKXV1Jbqp0V9YjDxm3YQtZx1AV3L/O5/Dn4HTt2hXLli3D6NGj4ePjg2+//RYdO3bEkSNHcNddd6GkpKTpN3EimQocIiIiso7Dn4OTl5eHmJi6h+Y8PT1RXl6u9e2IiIiI7E5zgRMZGYns7Ow60z/77DN07drVHjERERER3RLNt4k/99xzSEhIwE8//QQhBPbu3YuUlBQkJibinXfecUSMRERERJpoLnAmTJiAqqoqzJ07FxUVFXj88cfRtm1brFy5Eo899pgjYiQiIiLSRPNFxjcqKSlBTU0NQkJC7BmTQ/EiYzICrZ2P03OKkP39JfRp74/BnYIdsg096JGHLXmrsn9ljElWsu4rWeOyhta/35qP4Pz4448QQsDb2xtBQUE4e/YsVqxYga5du2L48OE2BU1E9qG18/HZC+UYvSYDpRXXzdP8vT2QmjAI4YH1P8VVxu7KeuRhS96q7F8ZY5KVrPtK1rgcSfNFxg8++CCSk5MBAJcuXUL//v3x2muv4cEHH8TatWvtHiARWU9r5+Ob//gCQGnFdTyw5iu7bUMPeuRhS96q7F8ZY5KVrPtK1rgcSXOBc/DgQQwePBgAsGXLFrRu3Rpnz55FcnIyVq1aZfcAicg6tZ2Pq28663xj5+MbpecU1fnjW6u04jr21NNFWes29KBHHrbkrcr+lTEmWcm6r2SNy9E0FzgVFRXw8fEBAOzYsQNjxoxBs2bNMGDAAHPbBiLSnzWdj2+U/f2lRpc/mF96y9vQgx552JK3KvtXxphkJeu+kjUuR9Nc4ERFReFvf/sbCgoK8MUXX5ivuykqKuJFu0ROpLXzce92rRpdvk97/1vehh70yMOWvFXZvzLGJCtZ95WscTma5gJn8eLFmDNnDiIiInDnnXciLi4OwM9Hc+p7wjER6UNr5+Oh0SHwb+DiQn9vj3rv9pGxu7IeediStyr7V8aYZCXrvpI1LkfTXOA8/PDDyM/Px/79+/H555+bpw8bNgxvvPGGXYMjIm20dj5OTRhU549w7V0+9tqGHvTIw5a8Vdm/MsYkK1n3laxxOdItPQfHFfE5OGQEWjsf78ktxsH8Uk3PaZGxu7IeediStyr7V8aYZCXrvpI1Lms4vJu4q2OBQ0RE5Hoc3k2ciIiISHYscIiIiEg5LHCIiIhIOSxwiIiISDmam20SqcyVO+3eSI883vwyFxnflWBwp2BMvTvKIduQcTxsiUnGPIhUxwKHCOp02tUjj/+cKsbj7+w1v848fRGvfJGDjyYPwJ23B9plGzKOhy0xyZgHkVHwFBUR1Om0q0ceNxY3N3r07a/ttg0Zx8OWmGTMg8goWOCQ4anSaVePPN78MrfR+W/tOnXL25BxPGyJScY8iIyEBQ4ZniqddvXII+O7kkbn77nhVIytZBwPW2KSMQ8iI2GBQ4anSqddPfKIvz2o0fnWtiFojIzjYUtMMuZBZCQscMjwVOm0q0ce04Z1anS+Pe6mknE8bIlJxjyIjIQFDhHU6bSrRx4fTR6gabotZBwPW2KSMQ8io2CzTaIbuHKn3Rvpkcdbu05hT26xQ5+DI+N42BKTjHkQuRp2E28CCxwiIiLXw27iREREZHgscIiIiEg5LHCIiIhIOSxwiIiISDlstkkkOT06UavSIVvGmIhkYqTPCAscIknp0YlalQ7ZMsZEJBMjfkZ4iopIUnp0olalQ7aMMRHJxIifERY4RBLSoxO1Kh2yZYyJSCZG/YywwCGSkB6dqFXpkC1jTEQyMepnhAUOkYT06EStSodsGWMikolRPyMscIgkpEcnalU6ZMsYE5FMjPoZYYFDJCk9OlGr0iFbxpiIZGLEzwibbRJJTo9O1Kp0yJYxJiKZuPJnhN3Em8ACh4iIyPWwmzgREREZHgscIiIiUg4LHCIiIlIOCxwiIiJSjlMLnMTERPTr1w8+Pj4ICQnB6NGjkZOT0+g6aWlpMJlMdX5OnDihU9RkD6eLr2JXTpFDHxGuxzb0YEseWtdRZV/pIT2nCCu/PIk9NzQtdFUcd1KZU7uJp6enIyEhAf369UNVVRUWLlyI4cOH49ixY2jZsvHb13Jyciyuog4ODnZ0uGQHsnbIlpEenb5V2Vd6OHuhHKPXZKC04rp5mr+3B1ITBiE8sPEnxcqG405GINVt4sXFxQgJCUF6ejqGDBlS7zJpaWm4++67UVpailatWmneBm8Td67frd+LjFMlFk3f3EwmxEcFIfnp/i6zDT3YkofWdVTZV3qIeWmHRXFTy9/bA1mLhzshIttx3MkVufRt4pcvXwYABAQENLlsTEwMwsLCMGzYMOzatavB5SorK1FWVmbxQ84ha4dsGenR6VuVfaWH9JyieosbACituO5Sp6s47mQU0hQ4QgjMnj0bgwYNQvfu3RtcLiwsDElJSdi6dSu2bduG6OhoDBs2DLt37653+cTERPj5+Zl/wsPDHZUCNUHWDtky0qPTtyr7Sg/Z319qdP7B/FJ9ArEDjjsZhVOvwbnRtGnTcOjQIXz11VeNLhcdHY3o6Gjz67i4OBQUFODPf/5zvae15s+fj9mzZ5tfl5WVschxElk7ZMtIj07fquwrPfRu16rR+X3a++sTiB1w3MkopDiCM336dKSmpmLXrl1o166d5vUHDBiA3Nzceud5enrC19fX4oecQ9YO2TLSo9O3KvtKD0OjQ+DfwMW3/t4eGNzJdW5y4LiTUTi1wBFCYNq0adi2bRv+/e9/IzIy0qb3ycrKQlhYmJ2jI0eQtUO2jPTo9K3KvtJDasKgOkVO7V1UrobjTkbg1Luopk6dig8//BCffPKJxWknPz8/eHl5Afj5FFNhYSGSk5MBACtWrEBERAS6deuGa9euYdOmTVi+fDm2bt2KMWPGNLlN3kUlB1k7ZMtIj07fquwrPezJLcbB/FL0ae/vUkdu6sNxJ1fiUt3ETTcdIq21YcMGjB8/HgAwfvx4nDlzBmlpaQCAV155BUlJSSgsLISXlxe6deuG+fPnY+TIkVZtkwUOERGR63GpAscZWOAQERG5Hpd+Dg4RERGRPbDAISIiIuWwwCEiIiLlSPOgPzKW08VXcfZiBe/esEJ6ThGyv7+kxF07RER6YYFDumIXY+up1L2aiEhvPEVFupqRko2MUyUW0zJOlWB6SpaTIpLXzcUN8HNjxwfWNN7OhIiIWOCQjtjF2Hoqda8mInIGFjikG3Yxtp5K3auJiJyBBQ7phl2MradS92oiImdggUO6YRdj66nUvZqIyBlY4JCu2MXYeip1ryYi0ht7UZFTsIux9VTqXk1EZCs222wCCxwiIiLXw2abREREZHgscIiIiEg5LHCIiIhIOSxwiIiISDlstulijNyF26i5GzVvWXE8iFwDCxwXYeQu3EbN3ah5y4rjQeRaeIrKRRi5C7dRczdq3rLieBC5FhY4LsDIXbiNmrtR85YVx4PI9bDAcQFG7sJt1NyNmresOB5ErocFjgswchduo+Zu1LxlxfEgcj0scFyAkbtwGzV3o+YtK44HkethgeMijNyF26i5GzVvWXE8iFwLm226GCN34TZq7kbNW1YcDyLnYDfxJrh6gUNERGRE7CZOREREhscCh4iIiJTDAoeIiIiUwwKHiIiIlMNmm0QkrfScImR/fwl92vtjcKdgh2yD3cGJ1MQCh4ikc/ZCOUavyUBpxXXzNH9vD6QmDEJ4YONPFbYWu4MTqY2nqIhIOjcXNwBQWnEdD6z5ym7bYHdwIrWxwCEiqaTnFNUpbmqVVlzHnhuOuNiK3cGJ1McCh4ikkv39pUbnH8wvveVtsDs4kfpY4BCRVHq3a9Xo/D7t/W95G+wOTqQ+FjhEJJWh0SHwb+AiX39vD7vcTcXu4ETqY4FDRNJJTRhUp8ipvYvKXtgdnEhtbLZJRNLak1uMg/mlDn0ODruDE7kGdhNvAgscIiIi18Nu4kRERGR4LHCIiIhIOSxwiIiISDkscIiIiEg5LHCIiIhIOSxwiIiISDkscIiIiEg5LHCIiIhIOSxwiIiISDkscIiIiEg5LHCIiIhIOSxwiIiISDkscIiIiEg5LHCIiIhIOSxwiIiISDkscIiIiEg5LHCIiIhIOSxwiIiISDlOLXASExPRr18/+Pj4ICQkBKNHj0ZOTk6T66Wnp6Nv375o0aIFOnbsiHXr1ukQLTnb6eKr2JVThLyScmeHQkREknN35sbT09ORkJCAfv36oaqqCgsXLsTw4cNx7NgxtGzZst518vLyMHLkSEyePBmbNm1CRkYGpk6diuDgYDz00EM6Z0B6uFRxDTNSsrE7t9g8bUinYKweGwM/bw8nRkZERLIyCSGEs4OoVVxcjJCQEKSnp2PIkCH1LjNv3jykpqbi+PHj5mlTpkzBt99+i8zMzCa3UVZWBj8/P1y+fBm+vr52i50c53fr9yLjVAmqb/hVdTOZEB8VhOSn+zsxMiIi0ovWv99SXYNz+fJlAEBAQECDy2RmZmL48OEW00aMGIH9+/fj+vXrdZavrKxEWVmZxQ+5jtPFV7E7t9iiuAGAaiGwO7eYp6uIiKhe0hQ4QgjMnj0bgwYNQvfu3Rtc7vz58wgNDbWYFhoaiqqqKpSUlNRZPjExEX5+fuaf8PBwu8dOjnP2YkWj889cYIFDRER1SVPgTJs2DYcOHUJKSkqTy5pMJovXtWfZbp4OAPPnz8fly5fNPwUFBfYJmHTRIcC70fkRgfVfq0VERMbm1IuMa02fPh2pqanYvXs32rVr1+iyrVu3xvnz5y2mFRUVwd3dHYGBgXWW9/T0hKenp13jJf10DL4NQzoFN3gNTmQQCxwiIqrLqUdwhBCYNm0atm3bhn//+9+IjIxscp24uDjs3LnTYtqOHTsQGxsLDw/eUaOi1WNjEB8VZDEtPioIq8fGOCkiIiKSnVPvopo6dSo+/PBDfPLJJ4iOjjZP9/Pzg5eXF4CfTzEVFhYiOTkZwM+3iXfv3h3PPPMMJk+ejMzMTEyZMgUpKSlW3SbOu6hcV15JOc5cKEdEYEseuSEiMhitf7+dWuDUd80MAGzYsAHjx48HAIwfPx5nzpxBWlqaeX56ejpmzZqFo0ePok2bNpg3bx6mTJli1TZZ4BAREbkelypwnIEFDhERketx6efgEBEREdkDCxwiIiJSDgscIiIiUg4LHCIiIlIOCxwiIiJSDgscIiIiUg4LHCIiIlIOCxwiIiJSDgscIiIiUo4U3cT1VPvg5rKyMidHQkRERNaq/bttbQMGwxU4V65cAQCEh4c7ORIiIiLS6sqVK/Dz82tyOcP1oqqpqcEPP/wAHx+fBpt9yqysrAzh4eEoKCgwXC8to+Zu1LwB5m7E3I2aN2Dc3K3NWwiBK1euoE2bNmjWrOkrbAx3BKdZs2Zo166ds8O4Zb6+vob6ANzIqLkbNW+AuRsxd6PmDRg3d2vytubITS1eZExERETKYYFDREREymGB42I8PT3xwgsvwNPT09mh6M6ouRs1b4C5GzF3o+YNGDd3R+VtuIuMiYiISH08gkNERETKYYFDREREymGBQ0RERMphgUNERETKYYEjscTERJhMJjz77LMNLpOWlgaTyVTn58SJE/oFagdLliypk0Pr1q0bXSc9PR19+/ZFixYt0LFjR6xbt06naO1Ha96qjHetwsJCPPnkkwgMDIS3tzd69+6NAwcONLqOCuOuNW9Vxj0iIqLePBISEhpcR4XxBrTnrsqYV1VVYdGiRYiMjISXlxc6duyIl156CTU1NY2uZ49xN9yTjF3Fvn37kJSUhJ49e1q1fE5OjsUTIIODgx0VmsN069YN//rXv8yv3dzcGlw2Ly8PI0eOxOTJk7Fp0yZkZGRg6tSpCA4OxkMPPaRHuHajJe9aKox3aWkp4uPjcffdd+Ozzz5DSEgIvvvuO7Rq1arBdVQYd1vyruXq475v3z5UV1ebXx85cgT33nsvHnnkkXqXV2G8a2nNvZarj/nLL7+MdevW4b333kO3bt2wf/9+TJgwAX5+fpg5c2a969ht3AVJ58qVK6JTp05i586dYujQoWLmzJkNLrtr1y4BQJSWluoWnyO88MILolevXlYvP3fuXNG5c2eLac8884wYMGCAnSNzLK15qzLeQggxb948MWjQIE3rqDDutuSt0rjfaObMmeL2228XNTU19c5XYbwb0lTuqoz5qFGjxMSJEy2mjRkzRjz55JMNrmOvcecpKgklJCRg1KhRuOeee6xeJyYmBmFhYRg2bBh27drlwOgcJzc3F23atEFkZCQee+wxnD59usFlMzMzMXz4cItpI0aMwP79+3H9+nVHh2pXWvKupcJ4p6amIjY2Fo888ghCQkIQExODt99+u9F1VBh3W/KupcK417p27Ro2bdqEiRMnNtj4WIXxro81uddy9TEfNGgQvvzyS5w8eRIA8O233+Krr77CyJEjG1zHXuPOAkcymzdvxsGDB5GYmGjV8mFhYUhKSsLWrVuxbds2REdHY9iwYdi9e7eDI7WvO++8E8nJyfjiiy/w9ttv4/z58xg4cCAuXLhQ7/Lnz59HaGioxbTQ0FBUVVWhpKREj5DtQmveqow3AJw+fRpr165Fp06d8MUXX2DKlCmYMWMGkpOTG1xHhXG3JW+Vxr3W3/72N1y6dAnjx49vcBkVxrs+1uSuypjPmzcPY8eORefOneHh4YGYmBg8++yzGDt2bIPr2G3cNR3vIYfKz88XISEhIjs72zytqVNU9fn1r38t7r//fjtHp6+rV6+K0NBQ8dprr9U7v1OnTmLZsmUW07766isBQJw7d06PEB2iqbzr46rj7eHhIeLi4iymTZ8+vdHD0CqMuy1518dVx73W8OHDxa9//etGl1FhvOtjTe71ccUxT0lJEe3atRMpKSni0KFDIjk5WQQEBIiNGzc2uI69xp1HcCRy4MABFBUVoW/fvnB3d4e7uzvS09OxatUquLu7W1yg1pgBAwYgNzfXwdE6VsuWLdGjR48G82jdujXOnz9vMa2oqAju7u4IDAzUI0SHaCrv+rjqeIeFhaFr164W07p06YL8/PwG11Fh3G3Juz6uOu4AcPbsWfzrX//CpEmTGl1OhfG+mbW518cVx/y5557D888/j8ceeww9evTAuHHjMGvWrEbPUthr3FngSGTYsGE4fPgwsrOzzT+xsbF44oknkJ2dbdXdNQCQlZWFsLAwB0frWJWVlTh+/HiDecTFxWHnzp0W03bs2IHY2Fh4eHjoEaJDNJV3fVx1vOPj45GTk2Mx7eTJk+jQoUOD66gw7rbkXR9XHXcA2LBhA0JCQjBq1KhGl1NhvG9mbe71ccUxr6ioQLNmlqWGm5tbo7eJ223cbT7uRLq4+RTV888/L8aNG2d+/cYbb4jt27eLkydPiiNHjojnn39eABBbt251QrS2+7//+z+RlpYmTp8+Lb7++mvx61//Wvj4+IgzZ84IIermffr0aeHt7S1mzZoljh07JtavXy88PDzEli1bnJWCTbTmrcp4CyHE3r17hbu7u1i6dKnIzc0VH3zwgfD29habNm0yL6PiuNuSt0rjXl1dLdq3by/mzZtXZ56K430jLbmrMuZPPfWUaNu2rfjHP/4h8vLyxLZt20RQUJCYO3eueRlHjTsLHMndXOA89dRTYujQoebXL7/8srj99ttFixYthL+/vxg0aJD45z//qX+gt+jRRx8VYWFhwsPDQ7Rp00aMGTNGHD161Dz/5ryFECItLU3ExMSI5s2bi4iICLF27Vqdo751WvNWZbxr/f3vfxfdu3cXnp6eonPnziIpKclivqrjrjVvlcb9iy++EABETk5OnXmqjnctLbmrMuZlZWVi5syZon379qJFixaiY8eOYuHChaKystK8jKPG3SSEENYf7yEiIiKSH6/BISIiIuWwwCEiIiLlsMAhIiIi5bDAISIiIuWwwCEiIiLlsMAhIiIi5bDAISIiIuWwwCEiIiLlsMAhIocbP348Ro8e3eD8jRs3olWrVrrF05SIiAisWLFC83oXLlxASEgIzpw5Y/eYahUVFSE4OBiFhYUO2waRCljgEJFh2buwSkxMxP3334+IiAi7vefNQkJCMG7cOLzwwgsO2waRCljgEBHZwY8//oj169dj0qRJDt/WhAkT8MEHH6C0tNTh2yJyVSxwiBS3ZcsW9OjRA15eXggMDMQ999yD8vJy8/wNGzagS5cuaNGiBTp37oy33nrLPO/MmTMwmUzYvHkzBg4ciBYtWqBbt25IS0szL1NdXY2nn34akZGR8PLyQnR0NFauXHnLcf/9739H37590aJFC3Ts2BEvvvgiqqqqzPNNJhPeeecd/OY3v4G3tzc6deqE1NRUi/dITU1Fp06d4OXlhbvvvhvvvfceTCYTLl26hLS0NEyYMAGXL1+GyWSCyWTCkiVLzOtWVFRg4sSJ8PHxQfv27ZGUlNRovJ999hnc3d0RFxdnMf3o0aMYNWoUfH194ePjg8GDB+O7774D8Mupu2XLliE0NBStWrUy5/ncc88hICAA7dq1w7vvvmvxnj169EDr1q2xfft2W3YtkTHcWp9QIpLZDz/8INzd3cXrr78u8vLyxKFDh8SaNWvElStXhBBCJCUlibCwMLF161Zx+vRpsXXrVhEQECA2btwohBAiLy9PABDt2rUTW7ZsEceOHROTJk0SPj4+oqSkRAghxLVr18TixYvF3r17xenTp8WmTZuEt7e3+Oijj8xxPPXUU+LBBx9sMM4NGzYIPz8/8+vPP/9c+Pr6io0bN4rvvvtO7NixQ0RERIglS5aYl6mN68MPPxS5ublixowZ4rbbbhMXLlwwx+7h4SHmzJkjTpw4IVJSUkTbtm0FAFFaWioqKyvFihUrhK+vrzh37pw4d+6ceb906NBBBAQEiDVr1ojc3FyRmJgomjVrJo4fP95gDjNnzhT/8z//YzHt+++/FwEBAWLMmDFi3759IicnR7z77rvixIkT5v3i4+MjEhISxIkTJ8T69esFADFixAixdOlScfLkSfHHP/5ReHh4iPz8fIv3/u1vfyvGjx/fYDxERscCh0hhBw4cEADEmTNn6p0fHh4uPvzwQ4tpf/zjH0VcXJwQ4pcCZ/ny5eb5169fF+3atRMvv/xyg9udOnWqeOihh8yvtRY4gwcPFsuWLbNY5v333xdhYWHm1wDEokWLzK+vXr0qTCaT+Oyzz4QQQsybN090797d4j0WLlxoLnDq226tDh06iCeffNL8uqamRoSEhIi1a9c2mMODDz4oJk6caDFt/vz5IjIyUly7dq3edZ566inRoUMHUV1dbZ4WHR0tBg8ebH5dVVUlWrZsKVJSUizWnTVrlrjrrrsajIfI6Nydd+yIiBytV69eGDZsGHr06IERI0Zg+PDhePjhh+Hv74/i4mIUFBTg6aefxuTJk83rVFVVwc/Pz+J9bjzt4u7ujtjYWBw/ftw8bd26dXjnnXdw9uxZ/Pjjj7h27Rp69+5tc9wHDhzAvn37sHTpUvO06upq/PTTT6ioqIC3tzcAoGfPnub5LVu2hI+PD4qKigAAOTk56Nevn8X79u/f3+oYbnxvk8mE1q1bm9+7Pj/++CNatGhhMS07OxuDBw+Gh4dHg+t169YNzZr9crVAaGgounfvbn7t5uaGwMDAOtv28vJCRUWF1fkQGQ0LHCKFubm5YefOnfjPf/6DHTt2YPXq1Vi4cCG++eYbc5Hw9ttv484776yzXlNMJhMA4OOPP8asWbPw2muvIS4uDj4+Pnj11VfxzTff2Bx3TU0NXnzxRYwZM6bOvBuLiJsLB5PJhJqaGgCAEMIcYy0hhNUxNPbe9QkKCqpz0a+Xl5dN27Fm2xcvXkRwcHCT709kVLzImEhxJpMJ8fHxePHFF5GVlYXmzZtj+/btCA0NRdu2bXH69GlERUVZ/ERGRlq8x9dff23+d1VVFQ4cOIDOnTsDAPbs2YOBAwdi6tSpiImJQVRUlPkiWlv16dMHOTk5deKKioqyONrRmM6dO2Pfvn0W0/bv32/xunnz5qiurr6lWGvFxMTg2LFjFtN69uyJPXv24Pr163bZxo2OHDmCmJgYu78vkSpY4BAp7JtvvsGyZcuwf/9+5OfnY9u2bSguLkaXLl0AAEuWLEFiYiJWrlyJkydP4vDhw9iwYQNef/11i/dZs2YNtm/fjhMnTiAhIQGlpaWYOHEiACAqKgr79+/HF198gZMnT+IPf/hDncJCq8WLFyM5ORlLlizB0aNHcfz4cXz00UdYtGiR1e/xzDPP4MSJE5g3bx5OnjyJjz/+GBs3bgTwy9GniIgIXL16FV9++SVKSkpu6ZTPiBEjcPToUYujONOmTUNZWRkee+wx7N+/H7m5uXj//feRk5Nj83aAn+/wOnDgAIYPH35L70OkMhY4RArz9fXF7t27MXLkSNxxxx1YtGgRXnvtNdx3330AgEmTJuGdd97Bxo0b0aNHDwwdOhQbN26scwRn+fLlePnll9GrVy/s2bMHn3zyCYKCggAAU6ZMwZgxY/Doo4/izjvvxIULFzB16tRbinvEiBH4xz/+gZ07d6Jfv34YMGAAXn/9dXTo0MHq94iMjMSWLVuwbds29OzZE2vXrsXChQsBAJ6engCAgQMHYsqUKXj00UcRHByMV155xeaYe/TogdjYWHz88cfmaYGBgfj3v/+Nq1evYujQoejbty/efvvtRq/JscYnn3yC9u3bY/Dgwbf0PkQqMwktJ6WJyFDOnDmDyMhIZGVl3dJFw7JYunQp1q1bh4KCAoe8/6effoo5c+bgyJEjVp9Ks0X//v3x7LPP4vHHH3fYNohcHS8yJiJlvfXWW+jXrx8CAwORkZGBV199FdOmTXPY9kaOHInc3FwUFhYiPDzcIdsoKirCww8/jLFjxzrk/YlUwSM4RNQgVz+CM2vWLHz00Ue4ePEi2rdvj3HjxmH+/Plwd+f/7YhUxwKHiIiIlMOLjImIiEg5LHCIiIhIOSxwiIiISDkscIiIiEg5LHCIiIhIOSxwiIiISDkscIiIiEg5LHCIiIhIOf8PsgwPfjJ68MYAAAAASUVORK5CYII=",
      "text/plain": [
       "<Figure size 640x480 with 1 Axes>"
      ]
     },
     "metadata": {},
     "output_type": "display_data"
    }
   ],
   "source": [
    "data_temp.plot(kind='scatter', x='sepal length (cm)', y='sepal width (cm)')"
   ]
  },
  {
   "cell_type": "code",
   "execution_count": 25,
   "metadata": {},
   "outputs": [],
   "source": [
    "# приведем данные к единому масштабу\n",
    "from sklearn.preprocessing import StandardScaler"
   ]
  },
  {
   "cell_type": "code",
   "execution_count": 26,
   "metadata": {},
   "outputs": [],
   "source": [
    "scaler = StandardScaler()"
   ]
  },
  {
   "cell_type": "code",
   "execution_count": 27,
   "metadata": {},
   "outputs": [
    {
     "data": {
      "text/plain": [
       "array([[-0.90068117,  1.01900435],\n",
       "       [-1.14301691, -0.13197948],\n",
       "       [-1.38535265,  0.32841405],\n",
       "       [-1.50652052,  0.09821729],\n",
       "       [-1.02184904,  1.24920112],\n",
       "       [-0.53717756,  1.93979142],\n",
       "       [-1.50652052,  0.78880759],\n",
       "       [-1.02184904,  0.78880759],\n",
       "       [-1.74885626, -0.36217625],\n",
       "       [-1.14301691,  0.09821729],\n",
       "       [-0.53717756,  1.47939788],\n",
       "       [-1.26418478,  0.78880759],\n",
       "       [-1.26418478, -0.13197948],\n",
       "       [-1.87002413, -0.13197948],\n",
       "       [-0.05250608,  2.16998818],\n",
       "       [-0.17367395,  3.09077525],\n",
       "       [-0.53717756,  1.93979142],\n",
       "       [-0.90068117,  1.01900435],\n",
       "       [-0.17367395,  1.70959465],\n",
       "       [-0.90068117,  1.70959465],\n",
       "       [-0.53717756,  0.78880759],\n",
       "       [-0.90068117,  1.47939788],\n",
       "       [-1.50652052,  1.24920112],\n",
       "       [-0.90068117,  0.55861082],\n",
       "       [-1.26418478,  0.78880759],\n",
       "       [-1.02184904, -0.13197948],\n",
       "       [-1.02184904,  0.78880759],\n",
       "       [-0.7795133 ,  1.01900435],\n",
       "       [-0.7795133 ,  0.78880759],\n",
       "       [-1.38535265,  0.32841405],\n",
       "       [-1.26418478,  0.09821729],\n",
       "       [-0.53717756,  0.78880759],\n",
       "       [-0.7795133 ,  2.40018495],\n",
       "       [-0.41600969,  2.63038172],\n",
       "       [-1.14301691,  0.09821729],\n",
       "       [-1.02184904,  0.32841405],\n",
       "       [-0.41600969,  1.01900435],\n",
       "       [-1.14301691,  1.24920112],\n",
       "       [-1.74885626, -0.13197948],\n",
       "       [-0.90068117,  0.78880759],\n",
       "       [-1.02184904,  1.01900435],\n",
       "       [-1.62768839, -1.74335684],\n",
       "       [-1.74885626,  0.32841405],\n",
       "       [-1.02184904,  1.01900435],\n",
       "       [-0.90068117,  1.70959465],\n",
       "       [-1.26418478, -0.13197948],\n",
       "       [-0.90068117,  1.70959465],\n",
       "       [-1.50652052,  0.32841405],\n",
       "       [-0.65834543,  1.47939788],\n",
       "       [-1.02184904,  0.55861082],\n",
       "       [ 1.40150837,  0.32841405],\n",
       "       [ 0.67450115,  0.32841405],\n",
       "       [ 1.2803405 ,  0.09821729],\n",
       "       [-0.41600969, -1.74335684],\n",
       "       [ 0.79566902, -0.59237301],\n",
       "       [-0.17367395, -0.59237301],\n",
       "       [ 0.55333328,  0.55861082],\n",
       "       [-1.14301691, -1.51316008],\n",
       "       [ 0.91683689, -0.36217625],\n",
       "       [-0.7795133 , -0.82256978],\n",
       "       [-1.02184904, -2.43394714],\n",
       "       [ 0.06866179, -0.13197948],\n",
       "       [ 0.18982966, -1.97355361],\n",
       "       [ 0.31099753, -0.36217625],\n",
       "       [-0.29484182, -0.36217625],\n",
       "       [ 1.03800476,  0.09821729],\n",
       "       [-0.29484182, -0.13197948],\n",
       "       [-0.05250608, -0.82256978],\n",
       "       [ 0.4321654 , -1.97355361],\n",
       "       [-0.29484182, -1.28296331],\n",
       "       [ 0.06866179,  0.32841405],\n",
       "       [ 0.31099753, -0.59237301],\n",
       "       [ 0.55333328, -1.28296331],\n",
       "       [ 0.31099753, -0.59237301],\n",
       "       [ 0.67450115, -0.36217625],\n",
       "       [ 0.91683689, -0.13197948],\n",
       "       [ 1.15917263, -0.59237301],\n",
       "       [ 1.03800476, -0.13197948],\n",
       "       [ 0.18982966, -0.36217625],\n",
       "       [-0.17367395, -1.05276654],\n",
       "       [-0.41600969, -1.51316008],\n",
       "       [-0.41600969, -1.51316008],\n",
       "       [-0.05250608, -0.82256978],\n",
       "       [ 0.18982966, -0.82256978],\n",
       "       [-0.53717756, -0.13197948],\n",
       "       [ 0.18982966,  0.78880759],\n",
       "       [ 1.03800476,  0.09821729],\n",
       "       [ 0.55333328, -1.74335684],\n",
       "       [-0.29484182, -0.13197948],\n",
       "       [-0.41600969, -1.28296331],\n",
       "       [-0.41600969, -1.05276654],\n",
       "       [ 0.31099753, -0.13197948],\n",
       "       [-0.05250608, -1.05276654],\n",
       "       [-1.02184904, -1.74335684],\n",
       "       [-0.29484182, -0.82256978],\n",
       "       [-0.17367395, -0.13197948],\n",
       "       [-0.17367395, -0.36217625],\n",
       "       [ 0.4321654 , -0.36217625],\n",
       "       [-0.90068117, -1.28296331],\n",
       "       [-0.17367395, -0.59237301],\n",
       "       [ 0.55333328,  0.55861082],\n",
       "       [-0.05250608, -0.82256978],\n",
       "       [ 1.52267624, -0.13197948],\n",
       "       [ 0.55333328, -0.36217625],\n",
       "       [ 0.79566902, -0.13197948],\n",
       "       [ 2.12851559, -0.13197948],\n",
       "       [-1.14301691, -1.28296331],\n",
       "       [ 1.76501198, -0.36217625],\n",
       "       [ 1.03800476, -1.28296331],\n",
       "       [ 1.64384411,  1.24920112],\n",
       "       [ 0.79566902,  0.32841405],\n",
       "       [ 0.67450115, -0.82256978],\n",
       "       [ 1.15917263, -0.13197948],\n",
       "       [-0.17367395, -1.28296331],\n",
       "       [-0.05250608, -0.59237301],\n",
       "       [ 0.67450115,  0.32841405],\n",
       "       [ 0.79566902, -0.13197948],\n",
       "       [ 2.24968346,  1.70959465],\n",
       "       [ 2.24968346, -1.05276654],\n",
       "       [ 0.18982966, -1.97355361],\n",
       "       [ 1.2803405 ,  0.32841405],\n",
       "       [-0.29484182, -0.59237301],\n",
       "       [ 2.24968346, -0.59237301],\n",
       "       [ 0.55333328, -0.82256978],\n",
       "       [ 1.03800476,  0.55861082],\n",
       "       [ 1.64384411,  0.32841405],\n",
       "       [ 0.4321654 , -0.59237301],\n",
       "       [ 0.31099753, -0.13197948],\n",
       "       [ 0.67450115, -0.59237301],\n",
       "       [ 1.64384411, -0.13197948],\n",
       "       [ 1.88617985, -0.59237301],\n",
       "       [ 2.4920192 ,  1.70959465],\n",
       "       [ 0.67450115, -0.59237301],\n",
       "       [ 0.55333328, -0.59237301],\n",
       "       [ 0.31099753, -1.05276654],\n",
       "       [ 2.24968346, -0.13197948],\n",
       "       [ 0.55333328,  0.78880759],\n",
       "       [ 0.67450115,  0.09821729],\n",
       "       [ 0.18982966, -0.13197948],\n",
       "       [ 1.2803405 ,  0.09821729],\n",
       "       [ 1.03800476,  0.09821729],\n",
       "       [ 1.2803405 ,  0.09821729],\n",
       "       [-0.05250608, -0.82256978],\n",
       "       [ 1.15917263,  0.32841405],\n",
       "       [ 1.03800476,  0.55861082],\n",
       "       [ 1.03800476, -0.13197948],\n",
       "       [ 0.55333328, -1.28296331],\n",
       "       [ 0.79566902, -0.13197948],\n",
       "       [ 0.4321654 ,  0.78880759],\n",
       "       [ 0.06866179, -0.13197948]])"
      ]
     },
     "execution_count": 27,
     "metadata": {},
     "output_type": "execute_result"
    }
   ],
   "source": [
    "# fit-transform сразу обучается и преобразует данные\n",
    "X_scaled = scaler.fit_transform(X)\n",
    "X_scaled"
   ]
  },
  {
   "cell_type": "code",
   "execution_count": 28,
   "metadata": {},
   "outputs": [
    {
     "name": "stderr",
     "output_type": "stream",
     "text": [
      "C:\\Users\\Игнат\\AppData\\Local\\Temp\\ipykernel_34072\\1343574465.py:1: UserWarning: No data for colormapping provided via 'c'. Parameters 'cmap' will be ignored\n",
      "  plt.scatter(X_scaled[:, 0], X_scaled[:, 1],cmap='autumn', s=60)\n"
     ]
    },
    {
     "data": {
      "text/plain": [
       "<matplotlib.collections.PathCollection at 0x1f41c100a00>"
      ]
     },
     "execution_count": 28,
     "metadata": {},
     "output_type": "execute_result"
    },
    {
     "data": {
      "image/png": "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",
      "text/plain": [
       "<Figure size 640x480 with 1 Axes>"
      ]
     },
     "metadata": {},
     "output_type": "display_data"
    }
   ],
   "source": [
    "plt.scatter(X_scaled[:, 0], X_scaled[:, 1],cmap='autumn', s=60)"
   ]
  },
  {
   "cell_type": "code",
   "execution_count": 35,
   "metadata": {},
   "outputs": [
    {
     "name": "stderr",
     "output_type": "stream",
     "text": [
      "e:\\Anaconda\\lib\\site-packages\\sklearn\\cluster\\_kmeans.py:870: FutureWarning: The default value of `n_init` will change from 10 to 'auto' in 1.4. Set the value of `n_init` explicitly to suppress the warning\n",
      "  warnings.warn(\n",
      "e:\\Anaconda\\lib\\site-packages\\sklearn\\cluster\\_kmeans.py:1382: UserWarning: KMeans is known to have a memory leak on Windows with MKL, when there are less chunks than available threads. You can avoid it by setting the environment variable OMP_NUM_THREADS=1.\n",
      "  warnings.warn(\n",
      "e:\\Anaconda\\lib\\site-packages\\sklearn\\cluster\\_kmeans.py:870: FutureWarning: The default value of `n_init` will change from 10 to 'auto' in 1.4. Set the value of `n_init` explicitly to suppress the warning\n",
      "  warnings.warn(\n",
      "e:\\Anaconda\\lib\\site-packages\\sklearn\\cluster\\_kmeans.py:1382: UserWarning: KMeans is known to have a memory leak on Windows with MKL, when there are less chunks than available threads. You can avoid it by setting the environment variable OMP_NUM_THREADS=1.\n",
      "  warnings.warn(\n",
      "e:\\Anaconda\\lib\\site-packages\\sklearn\\cluster\\_kmeans.py:870: FutureWarning: The default value of `n_init` will change from 10 to 'auto' in 1.4. Set the value of `n_init` explicitly to suppress the warning\n",
      "  warnings.warn(\n",
      "e:\\Anaconda\\lib\\site-packages\\sklearn\\cluster\\_kmeans.py:1382: UserWarning: KMeans is known to have a memory leak on Windows with MKL, when there are less chunks than available threads. You can avoid it by setting the environment variable OMP_NUM_THREADS=1.\n",
      "  warnings.warn(\n",
      "e:\\Anaconda\\lib\\site-packages\\sklearn\\cluster\\_kmeans.py:870: FutureWarning: The default value of `n_init` will change from 10 to 'auto' in 1.4. Set the value of `n_init` explicitly to suppress the warning\n",
      "  warnings.warn(\n",
      "e:\\Anaconda\\lib\\site-packages\\sklearn\\cluster\\_kmeans.py:1382: UserWarning: KMeans is known to have a memory leak on Windows with MKL, when there are less chunks than available threads. You can avoid it by setting the environment variable OMP_NUM_THREADS=1.\n",
      "  warnings.warn(\n",
      "e:\\Anaconda\\lib\\site-packages\\sklearn\\cluster\\_kmeans.py:870: FutureWarning: The default value of `n_init` will change from 10 to 'auto' in 1.4. Set the value of `n_init` explicitly to suppress the warning\n",
      "  warnings.warn(\n",
      "e:\\Anaconda\\lib\\site-packages\\sklearn\\cluster\\_kmeans.py:1382: UserWarning: KMeans is known to have a memory leak on Windows with MKL, when there are less chunks than available threads. You can avoid it by setting the environment variable OMP_NUM_THREADS=1.\n",
      "  warnings.warn(\n",
      "e:\\Anaconda\\lib\\site-packages\\sklearn\\cluster\\_kmeans.py:870: FutureWarning: The default value of `n_init` will change from 10 to 'auto' in 1.4. Set the value of `n_init` explicitly to suppress the warning\n",
      "  warnings.warn(\n",
      "e:\\Anaconda\\lib\\site-packages\\sklearn\\cluster\\_kmeans.py:1382: UserWarning: KMeans is known to have a memory leak on Windows with MKL, when there are less chunks than available threads. You can avoid it by setting the environment variable OMP_NUM_THREADS=1.\n",
      "  warnings.warn(\n",
      "e:\\Anaconda\\lib\\site-packages\\sklearn\\cluster\\_kmeans.py:870: FutureWarning: The default value of `n_init` will change from 10 to 'auto' in 1.4. Set the value of `n_init` explicitly to suppress the warning\n",
      "  warnings.warn(\n",
      "e:\\Anaconda\\lib\\site-packages\\sklearn\\cluster\\_kmeans.py:1382: UserWarning: KMeans is known to have a memory leak on Windows with MKL, when there are less chunks than available threads. You can avoid it by setting the environment variable OMP_NUM_THREADS=1.\n",
      "  warnings.warn(\n",
      "e:\\Anaconda\\lib\\site-packages\\sklearn\\cluster\\_kmeans.py:870: FutureWarning: The default value of `n_init` will change from 10 to 'auto' in 1.4. Set the value of `n_init` explicitly to suppress the warning\n",
      "  warnings.warn(\n",
      "e:\\Anaconda\\lib\\site-packages\\sklearn\\cluster\\_kmeans.py:1382: UserWarning: KMeans is known to have a memory leak on Windows with MKL, when there are less chunks than available threads. You can avoid it by setting the environment variable OMP_NUM_THREADS=1.\n",
      "  warnings.warn(\n",
      "e:\\Anaconda\\lib\\site-packages\\sklearn\\cluster\\_kmeans.py:870: FutureWarning: The default value of `n_init` will change from 10 to 'auto' in 1.4. Set the value of `n_init` explicitly to suppress the warning\n",
      "  warnings.warn(\n",
      "e:\\Anaconda\\lib\\site-packages\\sklearn\\cluster\\_kmeans.py:1382: UserWarning: KMeans is known to have a memory leak on Windows with MKL, when there are less chunks than available threads. You can avoid it by setting the environment variable OMP_NUM_THREADS=1.\n",
      "  warnings.warn(\n",
      "e:\\Anaconda\\lib\\site-packages\\sklearn\\cluster\\_kmeans.py:870: FutureWarning: The default value of `n_init` will change from 10 to 'auto' in 1.4. Set the value of `n_init` explicitly to suppress the warning\n",
      "  warnings.warn(\n",
      "e:\\Anaconda\\lib\\site-packages\\sklearn\\cluster\\_kmeans.py:1382: UserWarning: KMeans is known to have a memory leak on Windows with MKL, when there are less chunks than available threads. You can avoid it by setting the environment variable OMP_NUM_THREADS=1.\n",
      "  warnings.warn(\n",
      "e:\\Anaconda\\lib\\site-packages\\sklearn\\cluster\\_kmeans.py:870: FutureWarning: The default value of `n_init` will change from 10 to 'auto' in 1.4. Set the value of `n_init` explicitly to suppress the warning\n",
      "  warnings.warn(\n",
      "e:\\Anaconda\\lib\\site-packages\\sklearn\\cluster\\_kmeans.py:1382: UserWarning: KMeans is known to have a memory leak on Windows with MKL, when there are less chunks than available threads. You can avoid it by setting the environment variable OMP_NUM_THREADS=1.\n",
      "  warnings.warn(\n",
      "e:\\Anaconda\\lib\\site-packages\\sklearn\\cluster\\_kmeans.py:870: FutureWarning: The default value of `n_init` will change from 10 to 'auto' in 1.4. Set the value of `n_init` explicitly to suppress the warning\n",
      "  warnings.warn(\n",
      "e:\\Anaconda\\lib\\site-packages\\sklearn\\cluster\\_kmeans.py:1382: UserWarning: KMeans is known to have a memory leak on Windows with MKL, when there are less chunks than available threads. You can avoid it by setting the environment variable OMP_NUM_THREADS=1.\n",
      "  warnings.warn(\n",
      "e:\\Anaconda\\lib\\site-packages\\sklearn\\cluster\\_kmeans.py:870: FutureWarning: The default value of `n_init` will change from 10 to 'auto' in 1.4. Set the value of `n_init` explicitly to suppress the warning\n",
      "  warnings.warn(\n",
      "e:\\Anaconda\\lib\\site-packages\\sklearn\\cluster\\_kmeans.py:1382: UserWarning: KMeans is known to have a memory leak on Windows with MKL, when there are less chunks than available threads. You can avoid it by setting the environment variable OMP_NUM_THREADS=1.\n",
      "  warnings.warn(\n",
      "e:\\Anaconda\\lib\\site-packages\\sklearn\\cluster\\_kmeans.py:870: FutureWarning: The default value of `n_init` will change from 10 to 'auto' in 1.4. Set the value of `n_init` explicitly to suppress the warning\n",
      "  warnings.warn(\n",
      "e:\\Anaconda\\lib\\site-packages\\sklearn\\cluster\\_kmeans.py:1382: UserWarning: KMeans is known to have a memory leak on Windows with MKL, when there are less chunks than available threads. You can avoid it by setting the environment variable OMP_NUM_THREADS=1.\n",
      "  warnings.warn(\n",
      "e:\\Anaconda\\lib\\site-packages\\sklearn\\cluster\\_kmeans.py:870: FutureWarning: The default value of `n_init` will change from 10 to 'auto' in 1.4. Set the value of `n_init` explicitly to suppress the warning\n",
      "  warnings.warn(\n",
      "e:\\Anaconda\\lib\\site-packages\\sklearn\\cluster\\_kmeans.py:1382: UserWarning: KMeans is known to have a memory leak on Windows with MKL, when there are less chunks than available threads. You can avoid it by setting the environment variable OMP_NUM_THREADS=1.\n",
      "  warnings.warn(\n",
      "e:\\Anaconda\\lib\\site-packages\\sklearn\\cluster\\_kmeans.py:870: FutureWarning: The default value of `n_init` will change from 10 to 'auto' in 1.4. Set the value of `n_init` explicitly to suppress the warning\n",
      "  warnings.warn(\n",
      "e:\\Anaconda\\lib\\site-packages\\sklearn\\cluster\\_kmeans.py:1382: UserWarning: KMeans is known to have a memory leak on Windows with MKL, when there are less chunks than available threads. You can avoid it by setting the environment variable OMP_NUM_THREADS=1.\n",
      "  warnings.warn(\n",
      "e:\\Anaconda\\lib\\site-packages\\sklearn\\cluster\\_kmeans.py:870: FutureWarning: The default value of `n_init` will change from 10 to 'auto' in 1.4. Set the value of `n_init` explicitly to suppress the warning\n",
      "  warnings.warn(\n",
      "e:\\Anaconda\\lib\\site-packages\\sklearn\\cluster\\_kmeans.py:1382: UserWarning: KMeans is known to have a memory leak on Windows with MKL, when there are less chunks than available threads. You can avoid it by setting the environment variable OMP_NUM_THREADS=1.\n",
      "  warnings.warn(\n",
      "e:\\Anaconda\\lib\\site-packages\\sklearn\\cluster\\_kmeans.py:870: FutureWarning: The default value of `n_init` will change from 10 to 'auto' in 1.4. Set the value of `n_init` explicitly to suppress the warning\n",
      "  warnings.warn(\n",
      "e:\\Anaconda\\lib\\site-packages\\sklearn\\cluster\\_kmeans.py:1382: UserWarning: KMeans is known to have a memory leak on Windows with MKL, when there are less chunks than available threads. You can avoid it by setting the environment variable OMP_NUM_THREADS=1.\n",
      "  warnings.warn(\n",
      "e:\\Anaconda\\lib\\site-packages\\sklearn\\cluster\\_kmeans.py:870: FutureWarning: The default value of `n_init` will change from 10 to 'auto' in 1.4. Set the value of `n_init` explicitly to suppress the warning\n",
      "  warnings.warn(\n",
      "e:\\Anaconda\\lib\\site-packages\\sklearn\\cluster\\_kmeans.py:1382: UserWarning: KMeans is known to have a memory leak on Windows with MKL, when there are less chunks than available threads. You can avoid it by setting the environment variable OMP_NUM_THREADS=1.\n",
      "  warnings.warn(\n"
     ]
    }
   ],
   "source": [
    "# строим график локтя\n",
    "\n",
    "# создаем список для инерции\n",
    "k_inertia = []\n",
    "# задаем диапазон кластеров\n",
    "ks = range(1, 20)\n",
    "\n",
    "for k in ks:\n",
    "    clf_kmeans = KMeans(n_clusters=k)\n",
    "    clusters_kmeans = clf_kmeans.fit_predict(X_scaled)\n",
    "    # добавляем инерцию каждой модели в список\n",
    "    k_inertia.append(clf_kmeans.inertia_)"
   ]
  },
  {
   "cell_type": "code",
   "execution_count": 36,
   "metadata": {},
   "outputs": [
    {
     "data": {
      "text/plain": [
       "[<matplotlib.lines.Line2D at 0x1f423934ee0>]"
      ]
     },
     "execution_count": 36,
     "metadata": {},
     "output_type": "execute_result"
    },
    {
     "data": {
      "image/png": "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",
      "text/plain": [
       "<Figure size 640x480 with 1 Axes>"
      ]
     },
     "metadata": {},
     "output_type": "display_data"
    }
   ],
   "source": [
    "plt.plot(ks, k_inertia)\n",
    "plt.plot(ks, k_inertia ,'ro')"
   ]
  },
  {
   "cell_type": "code",
   "execution_count": 29,
   "metadata": {},
   "outputs": [],
   "source": [
    "from sklearn.cluster import KMeans"
   ]
  },
  {
   "cell_type": "code",
   "execution_count": 41,
   "metadata": {},
   "outputs": [
    {
     "name": "stderr",
     "output_type": "stream",
     "text": [
      "e:\\Anaconda\\lib\\site-packages\\sklearn\\cluster\\_kmeans.py:870: FutureWarning: The default value of `n_init` will change from 10 to 'auto' in 1.4. Set the value of `n_init` explicitly to suppress the warning\n",
      "  warnings.warn(\n",
      "e:\\Anaconda\\lib\\site-packages\\sklearn\\cluster\\_kmeans.py:1382: UserWarning: KMeans is known to have a memory leak on Windows with MKL, when there are less chunks than available threads. You can avoid it by setting the environment variable OMP_NUM_THREADS=1.\n",
      "  warnings.warn(\n"
     ]
    },
    {
     "data": {
      "text/plain": [
       "array([1, 1, 1, 1, 1, 1, 1, 1, 1, 1, 1, 1, 1, 1, 1, 1, 1, 1, 1, 1, 1, 1,\n",
       "       1, 1, 1, 1, 1, 1, 1, 1, 1, 1, 1, 1, 1, 1, 1, 1, 1, 1, 1, 0, 1, 1,\n",
       "       1, 1, 1, 1, 1, 1, 2, 2, 2, 0, 2, 0, 2, 0, 2, 0, 0, 0, 0, 0, 0, 2,\n",
       "       0, 0, 0, 0, 2, 0, 0, 0, 2, 2, 2, 2, 0, 0, 0, 0, 0, 0, 0, 2, 2, 0,\n",
       "       0, 0, 0, 2, 0, 0, 0, 0, 0, 0, 0, 0, 2, 0, 2, 2, 2, 2, 0, 2, 0, 2,\n",
       "       2, 0, 2, 0, 0, 2, 2, 2, 2, 0, 2, 0, 2, 0, 2, 2, 0, 2, 2, 2, 2, 2,\n",
       "       2, 0, 0, 2, 2, 2, 0, 2, 2, 2, 0, 2, 2, 2, 0, 2, 2, 0])"
      ]
     },
     "execution_count": 41,
     "metadata": {},
     "output_type": "execute_result"
    }
   ],
   "source": [
    "# явно указываем количество кластеров\n",
    "kmeans = KMeans(n_clusters=3)\n",
    "# fit_predict обучается на данных и каждому объекту присваивает кластер\n",
    "clusters = kmeans.fit_predict(X_scaled)\n",
    "clusters"
   ]
  },
  {
   "cell_type": "code",
   "execution_count": 53,
   "metadata": {},
   "outputs": [
    {
     "data": {
      "text/plain": [
       "<matplotlib.collections.PathCollection at 0x1f424aaedd0>"
      ]
     },
     "execution_count": 53,
     "metadata": {},
     "output_type": "execute_result"
    },
    {
     "data": {
      "image/png": "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",
      "text/plain": [
       "<Figure size 640x480 with 1 Axes>"
      ]
     },
     "metadata": {},
     "output_type": "display_data"
    }
   ],
   "source": [
    "plt.scatter(X_scaled[:, 0], X_scaled[:, 1], c=clusters, s=60)"
   ]
  }
 ],
 "metadata": {
  "kernelspec": {
   "display_name": "Python 3",
   "language": "python",
   "name": "python3"
  },
  "language_info": {
   "codemirror_mode": {
    "name": "ipython",
    "version": 3
   },
   "file_extension": ".py",
   "mimetype": "text/x-python",
   "name": "python",
   "nbconvert_exporter": "python",
   "pygments_lexer": "ipython3",
   "version": "3.10.9"
  },
  "orig_nbformat": 4
 },
 "nbformat": 4,
 "nbformat_minor": 2
}
