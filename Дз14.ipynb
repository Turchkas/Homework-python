{
 "cells": [
  {
   "cell_type": "code",
   "execution_count": 6,
   "metadata": {},
   "outputs": [],
   "source": [
    "import numpy as np"
   ]
  },
  {
   "cell_type": "code",
   "execution_count": 12,
   "metadata": {},
   "outputs": [
    {
     "name": "stdout",
     "output_type": "stream",
     "text": [
      "Игра не выгодна. Проигрыш составляет: 207879 руб. c 1000000 руб.\n"
     ]
    },
    {
     "data": {
      "text/plain": [
       "0.792121"
      ]
     },
     "execution_count": 12,
     "metadata": {},
     "output_type": "execute_result"
    }
   ],
   "source": [
    "#Выгодна ли игра игроку?\n",
    "trials = 1000000\n",
    "win = 0\n",
    "for i in range(trials):\n",
    "    random_number = str(np.random.randint(0, 10)) + str(np.random.randint(0, 10)) + str(np.random.randint(0, 10))\n",
    "    if random_number == '777':\n",
    "        win += 200\n",
    "    elif random_number == '999':\n",
    "        win += 100\n",
    "    elif random_number == '555':\n",
    "        win +=  50\n",
    "    elif random_number == '333':\n",
    "        win += 15\n",
    "    elif random_number == '111':\n",
    "        win += 10\n",
    "    elif random_number[0] != '7' and random_number[1:] == '77':\n",
    "        win += 5\n",
    "    elif random_number[1] != '7' and random_number[2] == '7':\n",
    "        win += 3\n",
    "    elif random_number[0] != '0' and random_number[1:] == '00':\n",
    "        win += 2\n",
    "    elif random_number[1] != '0' and random_number[2] == '0':\n",
    "        win += 1\n",
    "if win - trials > 0:\n",
    "    print('Игра выгодна. Выигрыш составляет:', win - trials, 'руб. c', trials, 'руб.')\n",
    "else:\n",
    "    print('Игра не выгодна. Проигрыш составляет:', abs(win - trials), 'руб. c', trials, 'руб.')  \n",
    "win/trials"
   ]
  },
  {
   "cell_type": "code",
   "execution_count": 13,
   "metadata": {},
   "outputs": [
    {
     "name": "stdout",
     "output_type": "stream",
     "text": [
      "Игра в среднем не выгодна. Проигрыш в среднем составляет: 202262.82 руб. c 1000000 руб.\n"
     ]
    }
   ],
   "source": [
    "#Сколько в среднем приобретает или теряет игрок за одну игру?\n",
    "games = 100\n",
    "games_wins = 0\n",
    "for i in range(games):\n",
    "    trials = 1000000\n",
    "    win = 0\n",
    "    for i in range(trials):\n",
    "        random_number = str(np.random.randint(0, 10)) + str(np.random.randint(0, 10)) + str(np.random.randint(0, 10))\n",
    "        if random_number == '777':\n",
    "            win += 200\n",
    "        elif random_number == '999':\n",
    "            win += 100\n",
    "        elif random_number == '555':\n",
    "            win +=  50\n",
    "        elif random_number == '333':\n",
    "            win += 15\n",
    "        elif random_number == '111':\n",
    "            win += 10\n",
    "        elif random_number[0] != '7' and random_number[1:] == '77':\n",
    "            win += 5\n",
    "        elif random_number[1] != '7' and random_number[2] == '7':\n",
    "            win += 3\n",
    "        elif random_number[0] != '0' and random_number[1:] == '00':\n",
    "            win += 2\n",
    "        elif random_number[1] != '0' and random_number[2] == '0':\n",
    "            win += 1\n",
    "    games_wins += (win - trials)\n",
    "avg_games_wins = games_wins/games\n",
    "if avg_games_wins - trials > 0:\n",
    "    print('Игра в среднем выгодна. Выигрыш в среднем составляет:', avg_games_wins, 'руб. c', trials, 'руб.')\n",
    "else:\n",
    "    print('Игра в среднем не выгодна. Проигрыш в среднем составляет:', abs(avg_games_wins), 'руб. c', trials, 'руб.')  "
   ]
  },
  {
   "attachments": {},
   "cell_type": "markdown",
   "metadata": {},
   "source": [
    "Теоретически рассчитать средний выигрыш (проигрыш) и сравнить с результатами моделирования:"
   ]
  },
  {
   "cell_type": "code",
   "execution_count": 4,
   "metadata": {},
   "outputs": [
    {
     "data": {
      "text/plain": [
       "0.8"
      ]
     },
     "execution_count": 4,
     "metadata": {},
     "output_type": "execute_result"
    }
   ],
   "source": [
    "x_avg = 1/1000*(200 + 100 + 50 + 15 + 10 + 9*5 + 90*3 + 10*2 + 90*1)\n",
    "x_avg\n",
    "#На каждый вложенный рубль можно получить 80 копеек, то есть играть невыгодно"
   ]
  }
 ],
 "metadata": {
  "kernelspec": {
   "display_name": "Python 3",
   "language": "python",
   "name": "python3"
  },
  "language_info": {
   "codemirror_mode": {
    "name": "ipython",
    "version": 3
   },
   "file_extension": ".py",
   "mimetype": "text/x-python",
   "name": "python",
   "nbconvert_exporter": "python",
   "pygments_lexer": "ipython3",
   "version": "3.10.9"
  },
  "orig_nbformat": 4
 },
 "nbformat": 4,
 "nbformat_minor": 2
}
