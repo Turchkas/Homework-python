{
 "cells": [
  {
   "cell_type": "code",
   "execution_count": 14,
   "metadata": {},
   "outputs": [],
   "source": [
    "import pandas as pd\n",
    "from surprise import Dataset, Reader\n",
    "from surprise.model_selection import train_test_split, cross_validate\n",
    "from surprise import SVD, KNNBasic\n",
    "from surprise import accuracy\n",
    "from surprise.model_selection import GridSearchCV"
   ]
  },
  {
   "cell_type": "code",
   "execution_count": 15,
   "metadata": {},
   "outputs": [],
   "source": [
    "ratings = pd.read_csv('ratings.dat', sep='::', header=None, names=['userId', 'movieId', 'rating', 'timestamp'], engine='python')\n",
    "reader = Reader(rating_scale=(1, 5))\n",
    "data = Dataset.load_from_df(ratings[['userId', 'movieId', 'rating']], reader)\n",
    "#Отбираем алгоритмы из SURPRISE, которые будем обучать\n",
    "algorithms = {\n",
    "    'SVD': SVD(),\n",
    "    'KNNBasic': KNNBasic()}"
   ]
  },
  {
   "cell_type": "code",
   "execution_count": 16,
   "metadata": {},
   "outputs": [
    {
     "name": "stdout",
     "output_type": "stream",
     "text": [
      "Оценка SVD...\n",
      "Evaluating RMSE of algorithm SVD on 5 split(s).\n",
      "\n",
      "                  Fold 1  Fold 2  Fold 3  Fold 4  Fold 5  Mean    Std     \n",
      "RMSE (testset)    0.8753  0.8727  0.8747  0.8730  0.8732  0.8738  0.0010  \n",
      "Fit time          5.95    6.38    6.54    6.32    6.31    6.30    0.19    \n",
      "Test time         1.03    1.28    1.42    1.13    1.32    1.23    0.14    \n",
      "Оценка KNNBasic...\n",
      "Computing the msd similarity matrix...\n",
      "Done computing similarity matrix.\n",
      "Computing the msd similarity matrix...\n",
      "Done computing similarity matrix.\n",
      "Computing the msd similarity matrix...\n",
      "Done computing similarity matrix.\n",
      "Computing the msd similarity matrix...\n",
      "Done computing similarity matrix.\n",
      "Computing the msd similarity matrix...\n",
      "Done computing similarity matrix.\n",
      "Evaluating RMSE of algorithm KNNBasic on 5 split(s).\n",
      "\n",
      "                  Fold 1  Fold 2  Fold 3  Fold 4  Fold 5  Mean    Std     \n",
      "RMSE (testset)    0.9238  0.9250  0.9210  0.9238  0.9199  0.9227  0.0019  \n",
      "Fit time          25.87   24.88   25.27   24.68   25.09   25.16   0.41    \n",
      "Test time         62.38   63.38   62.15   61.91   63.19   62.60   0.58    \n"
     ]
    },
    {
     "data": {
      "text/plain": [
       "{'SVD': 0.8737689464724353, 'KNNBasic': 0.9227035635551362}"
      ]
     },
     "execution_count": 16,
     "metadata": {},
     "output_type": "execute_result"
    }
   ],
   "source": [
    "#В процессе обучения выполняем проверку на 5 фолдах, оцениваем RMSE\n",
    "results = {}\n",
    "for name, algo in algorithms.items():\n",
    "    print(f\"Оценка {name}...\")\n",
    "    cv_results = cross_validate(algo, data, measures=['RMSE'], cv=5, verbose=True)\n",
    "    results[name] = cv_results['test_rmse'].mean()\n",
    "results"
   ]
  },
  {
   "cell_type": "code",
   "execution_count": 18,
   "metadata": {},
   "outputs": [
    {
     "name": "stdout",
     "output_type": "stream",
     "text": [
      "Лучший алгоритм: SVD с RMSE: 0.8737689464724353\n"
     ]
    }
   ],
   "source": [
    "#Отбираем лучший алгоритм\n",
    "best_algorithm_name = min(results, key=results.get)\n",
    "best_rmse = results[best_algorithm_name]\n",
    "print(f\"Лучший алгоритм: {best_algorithm_name} с RMSE: {best_rmse}\")"
   ]
  },
  {
   "cell_type": "code",
   "execution_count": 21,
   "metadata": {},
   "outputs": [
    {
     "name": "stdout",
     "output_type": "stream",
     "text": [
      "Лучшие параметры для SVD: {'n_factors': 500, 'n_epochs': 30, 'lr_all': 0.01, 'reg_all': 0.1}\n",
      "RMSE для SVD: 0.8699951875043348\n"
     ]
    }
   ],
   "source": [
    "#Тюним лучший алгоритм\n",
    "if best_algorithm_name == 'SVD':\n",
    "    param_grid = {\n",
    "        'n_factors': [50, 500],\n",
    "        'n_epochs': [20, 30],\n",
    "        'lr_all': [0.001, 0.01],\n",
    "        'reg_all': [0.01, 0.1]\n",
    "    }\n",
    "    gs = GridSearchCV(SVD, param_grid, measures=['rmse'], cv=5)\n",
    "    gs.fit(data)\n",
    "    print(f\"Лучшие параметры для SVD: {gs.best_params['rmse']}\")\n",
    "    print(f\"RMSE для SVD: {gs.best_score['rmse']}\")\n",
    "\n",
    "elif best_algorithm_name == 'KNNBasic':\n",
    "    param_grid = {\n",
    "        'k': [5, 10, 15],\n",
    "        'sim_options': {\n",
    "            'name': ['msd', 'cosine'],\n",
    "            'user_based': [True, False]  # Сравниваем пользователей или предметы\n",
    "        }\n",
    "    }\n",
    "    gs = GridSearchCV(KNNBasic, param_grid, measures=['rmse'], cv=5)\n",
    "    gs.fit(data)\n",
    "    print(f\"Лучшие параметры для KNNBasic: {gs.best_params['rmse']}\")\n",
    "    print(f\"RMSE для KNNBasic: {gs.best_score['rmse']}\")"
   ]
  }
 ],
 "metadata": {
  "kernelspec": {
   "display_name": "base",
   "language": "python",
   "name": "python3"
  },
  "language_info": {
   "codemirror_mode": {
    "name": "ipython",
    "version": 3
   },
   "file_extension": ".py",
   "mimetype": "text/x-python",
   "name": "python",
   "nbconvert_exporter": "python",
   "pygments_lexer": "ipython3",
   "version": "3.11.7"
  }
 },
 "nbformat": 4,
 "nbformat_minor": 2
}
