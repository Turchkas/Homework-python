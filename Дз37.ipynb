{
 "cells": [
  {
   "cell_type": "code",
   "execution_count": 1,
   "metadata": {},
   "outputs": [],
   "source": [
    "import pandas as pd\n",
    "import numpy as np\n",
    "from sklearn.datasets import make_classification\n",
    "from sklearn.feature_selection import SelectFromModel\n",
    "from sklearn.ensemble import RandomForestClassifier\n",
    "from sklearn.linear_model import LogisticRegression\n",
    "from sklearn.feature_selection import VarianceThreshold\n",
    "from sklearn.feature_selection import SequentialFeatureSelector\n",
    "from sklearn.feature_selection import SelectKBest, f_classif\n",
    "from sklearn.model_selection import cross_val_score"
   ]
  },
  {
   "cell_type": "code",
   "execution_count": 2,
   "metadata": {},
   "outputs": [
    {
     "name": "stdout",
     "output_type": "stream",
     "text": [
      "Средняя точность модели логистической регрессии: 0.88\n"
     ]
    }
   ],
   "source": [
    "x_data_generated, y_data_generated = make_classification(scale=1)\n",
    "df = pd.DataFrame(x_data_generated)\n",
    "df = pd.concat([df, pd.Series(y_data_generated)], axis = 1)\n",
    "df_corr = df.corr(method = 'spearman')\n",
    "accuracy = cross_val_score(LogisticRegression(), x_data_generated, y_data_generated, scoring='accuracy').mean()\n",
    "count_1 = x_data_generated.shape[1]\n",
    "print(\"Средняя точность модели логистической регрессии:\", round(accuracy, 2))"
   ]
  },
  {
   "cell_type": "code",
   "execution_count": 3,
   "metadata": {},
   "outputs": [
    {
     "name": "stdout",
     "output_type": "stream",
     "text": [
      "Средняя точность после выбора признаков на основе матрицы корреляции: 0.94\n"
     ]
    }
   ],
   "source": [
    "upper_tri = df_corr.where(np.triu(np.ones(df_corr.shape), k=1).astype(bool))\n",
    "columns_with_max_corr = [column for column in upper_tri.columns if any(abs(upper_tri[column]) > 0.5)]\n",
    "accuracy_after_feature_selection_with_corr_matrix = cross_val_score(LogisticRegression(), x_data_generated[:, columns_with_max_corr], y_data_generated, scoring='accuracy').mean()\n",
    "count_2 = x_data_generated[:, columns_with_max_corr].shape[1]\n",
    "print(\"Средняя точность после выбора признаков на основе матрицы корреляции:\", round(accuracy_after_feature_selection_with_corr_matrix, 2))"
   ]
  },
  {
   "cell_type": "code",
   "execution_count": 11,
   "metadata": {},
   "outputs": [
    {
     "name": "stdout",
     "output_type": "stream",
     "text": [
      "Средняя точность после отсева низковариативных признаков: 0.88\n"
     ]
    }
   ],
   "source": [
    "accuracy_after_drop_low_cov_feature = cross_val_score(LogisticRegression(), VarianceThreshold(threshold=0.5).fit_transform(x_data_generated), y_data_generated, scoring='accuracy').mean()\n",
    "count_3 = VarianceThreshold(threshold=0.5).fit_transform(x_data_generated).shape[1]\n",
    "print(\"Средняя точность после отсева низковариативных признаков:\", round(accuracy_after_drop_low_cov_feature, 2))"
   ]
  },
  {
   "cell_type": "code",
   "execution_count": 5,
   "metadata": {},
   "outputs": [
    {
     "name": "stdout",
     "output_type": "stream",
     "text": [
      "Средняя точность после отбора признаков на основе дисперсионного анализа: 0.94\n"
     ]
    }
   ],
   "source": [
    "accuracy_after_anova = cross_val_score(LogisticRegression(), SelectKBest(f_classif, k=5).fit_transform(x_data_generated, y_data_generated), y_data_generated, scoring='accuracy').mean()\n",
    "count_4 = SelectKBest(f_classif, k=5).fit_transform(x_data_generated, y_data_generated).shape[1]\n",
    "print(\"Средняя точность после отбора признаков на основе дисперсионного анализа:\", round(accuracy_after_anova, 2))"
   ]
  },
  {
   "cell_type": "code",
   "execution_count": 6,
   "metadata": {},
   "outputs": [
    {
     "name": "stdout",
     "output_type": "stream",
     "text": [
      "Средняя точность после отбора признаков с помощью логистической регрессии (L1 регуляризация): 0.9\n"
     ]
    }
   ],
   "source": [
    "accuracy_after_feature_selection_lr = cross_val_score(LogisticRegression(), SelectFromModel(LogisticRegression(penalty=\"l1\", solver='liblinear')).fit_transform(x_data_generated, y_data_generated), y_data_generated, scoring='accuracy').mean()\n",
    "count_5 = SelectFromModel(LogisticRegression(penalty=\"l1\", solver='liblinear')).fit_transform(x_data_generated, y_data_generated).shape[1]\n",
    "print(\"Средняя точность после отбора признаков с помощью логистической регрессии (L1 регуляризация):\", round(accuracy_after_feature_selection_lr, 2))"
   ]
  },
  {
   "cell_type": "code",
   "execution_count": 7,
   "metadata": {},
   "outputs": [
    {
     "name": "stdout",
     "output_type": "stream",
     "text": [
      "Средняя точность после отбора признаков с помощью модели RandomForest: 0.91\n"
     ]
    }
   ],
   "source": [
    "accuracy_after_feature_selection_rf = cross_val_score(LogisticRegression(), x_data_generated[:, RandomForestClassifier().fit(x_data_generated, y_data_generated).feature_importances_.argsort()[::-1][:10]], y_data_generated, scoring='accuracy').mean()\n",
    "count_6 = x_data_generated[:, RandomForestClassifier().fit(x_data_generated, y_data_generated).feature_importances_.argsort()[::-1][:10]].shape[1]\n",
    "print(\"Средняя точность после отбора признаков с помощью модели RandomForest:\", round(accuracy_after_feature_selection_rf, 2))"
   ]
  },
  {
   "cell_type": "code",
   "execution_count": 8,
   "metadata": {},
   "outputs": [
    {
     "name": "stdout",
     "output_type": "stream",
     "text": [
      "Средняя точность после перебора признаков с помощью прямого SequentialFeatureSelector: 0.94\n"
     ]
    }
   ],
   "source": [
    "sfs_forward = SequentialFeatureSelector(LogisticRegression(), n_features_to_select=10, direction=\"forward\")\n",
    "accuracy_after_forward_sfs = cross_val_score(LogisticRegression(), sfs_forward.fit_transform(x_data_generated, y_data_generated), y_data_generated, scoring='accuracy').mean()\n",
    "count_7 = sfs_forward.fit_transform(x_data_generated, y_data_generated).shape[1]\n",
    "print(\"Средняя точность после перебора признаков с помощью прямого SequentialFeatureSelector:\", round(accuracy_after_forward_sfs, 2))"
   ]
  },
  {
   "cell_type": "code",
   "execution_count": 9,
   "metadata": {},
   "outputs": [
    {
     "name": "stdout",
     "output_type": "stream",
     "text": [
      "Средняя точность после перебора признаков с помощью обратного SequentialFeatureSelector: 0.93\n"
     ]
    }
   ],
   "source": [
    "sfs_backward = SequentialFeatureSelector(LogisticRegression(), n_features_to_select=10, direction=\"backward\")\n",
    "accuracy_after_backward_sfs = cross_val_score(LogisticRegression(), sfs_backward.fit_transform(x_data_generated, y_data_generated), y_data_generated, scoring='accuracy').mean()\n",
    "count_8 = sfs_backward.fit_transform(x_data_generated, y_data_generated).shape[1]\n",
    "print(\"Средняя точность после перебора признаков с помощью обратного SequentialFeatureSelector:\", round(accuracy_after_backward_sfs, 2))"
   ]
  },
  {
   "cell_type": "code",
   "execution_count": 12,
   "metadata": {},
   "outputs": [
    {
     "data": {
      "text/html": [
       "<div>\n",
       "<style scoped>\n",
       "    .dataframe tbody tr th:only-of-type {\n",
       "        vertical-align: middle;\n",
       "    }\n",
       "\n",
       "    .dataframe tbody tr th {\n",
       "        vertical-align: top;\n",
       "    }\n",
       "\n",
       "    .dataframe thead th {\n",
       "        text-align: right;\n",
       "    }\n",
       "</style>\n",
       "<table border=\"1\" class=\"dataframe\">\n",
       "  <thead>\n",
       "    <tr style=\"text-align: right;\">\n",
       "      <th></th>\n",
       "      <th>Способ выбора признаков</th>\n",
       "      <th>Количество признаков</th>\n",
       "      <th>Средняя точность модели</th>\n",
       "    </tr>\n",
       "  </thead>\n",
       "  <tbody>\n",
       "    <tr>\n",
       "      <th>0</th>\n",
       "      <td>Взяли признаки по дефолту</td>\n",
       "      <td>20</td>\n",
       "      <td>0.88</td>\n",
       "    </tr>\n",
       "    <tr>\n",
       "      <th>1</th>\n",
       "      <td>На основе матрицы корреляции</td>\n",
       "      <td>3</td>\n",
       "      <td>0.94</td>\n",
       "    </tr>\n",
       "    <tr>\n",
       "      <th>2</th>\n",
       "      <td>Отсекли низковариативные признаки</td>\n",
       "      <td>20</td>\n",
       "      <td>0.88</td>\n",
       "    </tr>\n",
       "    <tr>\n",
       "      <th>3</th>\n",
       "      <td>На основе дисперсионного анализа</td>\n",
       "      <td>5</td>\n",
       "      <td>0.94</td>\n",
       "    </tr>\n",
       "    <tr>\n",
       "      <th>4</th>\n",
       "      <td>C помощью логистической регрессии (L1 регуляризация)</td>\n",
       "      <td>11</td>\n",
       "      <td>0.90</td>\n",
       "    </tr>\n",
       "    <tr>\n",
       "      <th>5</th>\n",
       "      <td>C помощью модели RandomForest</td>\n",
       "      <td>10</td>\n",
       "      <td>0.91</td>\n",
       "    </tr>\n",
       "    <tr>\n",
       "      <th>6</th>\n",
       "      <td>C помощью прямого SequentialFeatureSelector</td>\n",
       "      <td>10</td>\n",
       "      <td>0.94</td>\n",
       "    </tr>\n",
       "    <tr>\n",
       "      <th>7</th>\n",
       "      <td>C помощью обратного SequentialFeatureSelector</td>\n",
       "      <td>10</td>\n",
       "      <td>0.93</td>\n",
       "    </tr>\n",
       "  </tbody>\n",
       "</table>\n",
       "</div>"
      ],
      "text/plain": [
       "                                Способ выбора признаков  Количество признаков  \\\n",
       "0                             Взяли признаки по дефолту                    20   \n",
       "1                          На основе матрицы корреляции                     3   \n",
       "2                     Отсекли низковариативные признаки                    20   \n",
       "3                      На основе дисперсионного анализа                     5   \n",
       "4  C помощью логистической регрессии (L1 регуляризация)                    11   \n",
       "5                         C помощью модели RandomForest                    10   \n",
       "6           C помощью прямого SequentialFeatureSelector                    10   \n",
       "7         C помощью обратного SequentialFeatureSelector                    10   \n",
       "\n",
       "   Средняя точность модели  \n",
       "0                     0.88  \n",
       "1                     0.94  \n",
       "2                     0.88  \n",
       "3                     0.94  \n",
       "4                     0.90  \n",
       "5                     0.91  \n",
       "6                     0.94  \n",
       "7                     0.93  "
      ]
     },
     "execution_count": 12,
     "metadata": {},
     "output_type": "execute_result"
    }
   ],
   "source": [
    "pd.set_option(\"max_colwidth\", 500)\n",
    "relult = (pd.DataFrame({'Способ выбора признаков': ['Взяли признаки по дефолту', 'На основе матрицы корреляции', 'Отсекли низковариативные признаки', 'На основе дисперсионного анализа', 'C помощью логистической регрессии (L1 регуляризация)', 'C помощью модели RandomForest', 'C помощью прямого SequentialFeatureSelector', 'C помощью обратного SequentialFeatureSelector'], \n",
    "                        'Количество признаков': [count_1, count_2, count_3, count_4, count_5, count_6, count_7, count_8], \n",
    "                        'Средняя точность модели': [accuracy, accuracy_after_feature_selection_with_corr_matrix, accuracy_after_drop_low_cov_feature, accuracy_after_anova, accuracy_after_feature_selection_lr, accuracy_after_feature_selection_rf, accuracy_after_forward_sfs, accuracy_after_backward_sfs]}))\n",
    "relult"
   ]
  },
  {
   "cell_type": "code",
   "execution_count": null,
   "metadata": {},
   "outputs": [],
   "source": []
  }
 ],
 "metadata": {
  "kernelspec": {
   "display_name": "Python 3",
   "language": "python",
   "name": "python3"
  },
  "language_info": {
   "codemirror_mode": {
    "name": "ipython",
    "version": 3
   },
   "file_extension": ".py",
   "mimetype": "text/x-python",
   "name": "python",
   "nbconvert_exporter": "python",
   "pygments_lexer": "ipython3",
   "version": "3.10.9"
  }
 },
 "nbformat": 4,
 "nbformat_minor": 2
}
